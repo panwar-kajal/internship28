{
 "cells": [
  {
   "cell_type": "markdown",
   "id": "90f12b66",
   "metadata": {},
   "source": [
    "# !pip install selenium"
   ]
  },
  {
   "cell_type": "code",
   "execution_count": 1,
   "id": "e9f9f4d9",
   "metadata": {},
   "outputs": [],
   "source": [
    "#: Write a python program to scrape data for “Data Analyst” Job position in “Bangalore” location. You have to scrape the job-title, job-location, company_name, experience_required. You have to scrape first 10 jobs data. This "
   ]
  },
  {
   "cell_type": "code",
   "execution_count": 5,
   "id": "951318a3",
   "metadata": {},
   "outputs": [],
   "source": [
    "from selenium import webdriver\n",
    "import pandas as pd\n",
    "import selenium\n",
    "import numpy as np\n",
    "import time\n",
    "import warnings\n",
    "warnings.filterwarnings('ignore')"
   ]
  },
  {
   "cell_type": "code",
   "execution_count": 6,
   "id": "59799263",
   "metadata": {},
   "outputs": [],
   "source": [
    "driver=webdriver.Chrome(r'C:\\Users\\sandeep\\.jupyter\\webdrv\\chromedriver')"
   ]
  },
  {
   "cell_type": "code",
   "execution_count": 7,
   "id": "ee584ad4",
   "metadata": {},
   "outputs": [],
   "source": [
    "driver = webdriver.Chrome(r'C:\\Users\\sandeep\\.jupyter\\webdrv\\chromedriver')  # Optional argument, if not specified will search path.\n",
    "driver.get(' https://www.naukri.com/ ');\n",
    "time.sleep(5)\n"
   ]
  },
  {
   "cell_type": "code",
   "execution_count": 8,
   "id": "de4f1998",
   "metadata": {},
   "outputs": [],
   "source": [
    "#finding element for job search bar\n",
    "search_field_designation=driver.find_element_by_class_name(\"suggestor-input \")\n",
    "search_field_designation.send_keys(\"data analyst\")"
   ]
  },
  {
   "cell_type": "code",
   "execution_count": 9,
   "id": "dbd7b286",
   "metadata": {},
   "outputs": [],
   "source": [
    "#finding element for location\n",
    "search_field_loc=driver.find_element_by_xpath(\" /html/body/div/div[2]/div[3]/div/div/div[5]/div/div/div/input\")\n",
    "search_field_loc.send_keys(\"banglore\")"
   ]
  },
  {
   "cell_type": "code",
   "execution_count": 10,
   "id": "5d4deb35",
   "metadata": {},
   "outputs": [],
   "source": [
    "#finding element for search bar\n",
    "\n",
    "search = driver.find_element_by_xpath(\"/html/body/div/div[2]/div[3]/div/div/div[6]\")\n",
    "driver.execute_script(\"arguments[0].click();\", search)"
   ]
  },
  {
   "cell_type": "code",
   "execution_count": 11,
   "id": "2ed92835",
   "metadata": {},
   "outputs": [],
   "source": [
    "job_titles=[]\n",
    "company_name=[]\n",
    "location_name=[]"
   ]
  },
  {
   "cell_type": "code",
   "execution_count": 12,
   "id": "14c0e182",
   "metadata": {},
   "outputs": [
    {
     "data": {
      "text/plain": [
       "[<selenium.webdriver.remote.webelement.WebElement (session=\"22364b1edf1f2f96cee7e61f194f761f\", element=\"e963a87f-b113-408f-89bb-c5e54446ba20\")>,\n",
       " <selenium.webdriver.remote.webelement.WebElement (session=\"22364b1edf1f2f96cee7e61f194f761f\", element=\"5e420a90-a472-4304-9977-8b839b0b6e26\")>,\n",
       " <selenium.webdriver.remote.webelement.WebElement (session=\"22364b1edf1f2f96cee7e61f194f761f\", element=\"b4b0dc53-6d08-471d-890e-4a107640b2de\")>,\n",
       " <selenium.webdriver.remote.webelement.WebElement (session=\"22364b1edf1f2f96cee7e61f194f761f\", element=\"90c93f61-c0fb-4095-9a46-a003c920d306\")>,\n",
       " <selenium.webdriver.remote.webelement.WebElement (session=\"22364b1edf1f2f96cee7e61f194f761f\", element=\"d8b50b94-38bc-46ee-b5eb-054368ee2429\")>,\n",
       " <selenium.webdriver.remote.webelement.WebElement (session=\"22364b1edf1f2f96cee7e61f194f761f\", element=\"38984800-3da4-4a63-871f-7943bd11473f\")>,\n",
       " <selenium.webdriver.remote.webelement.WebElement (session=\"22364b1edf1f2f96cee7e61f194f761f\", element=\"ecd27d64-bceb-4f05-892e-a9156ab6edd5\")>,\n",
       " <selenium.webdriver.remote.webelement.WebElement (session=\"22364b1edf1f2f96cee7e61f194f761f\", element=\"72dbdf6d-be34-435c-85c1-82f4fe77ab4c\")>,\n",
       " <selenium.webdriver.remote.webelement.WebElement (session=\"22364b1edf1f2f96cee7e61f194f761f\", element=\"5a57e538-5a14-41e6-886c-46c785b42f34\")>,\n",
       " <selenium.webdriver.remote.webelement.WebElement (session=\"22364b1edf1f2f96cee7e61f194f761f\", element=\"0e54f418-63c1-4de3-aaa1-09c66b52f228\")>]"
      ]
     },
     "execution_count": 12,
     "metadata": {},
     "output_type": "execute_result"
    }
   ],
   "source": [
    "#extracting all tags having job title\n",
    "titles_tags=driver.find_elements_by_xpath(\"//a[@ class='title fw500 ellipsis']\")\n",
    "titles_tags[0:10]"
   ]
  },
  {
   "cell_type": "code",
   "execution_count": 13,
   "id": "1fe478a5",
   "metadata": {},
   "outputs": [
    {
     "data": {
      "text/plain": [
       "['Data Analyst / Business Analyst',\n",
       " 'data analyst/ data analytics / Business analyst- SQL/Python/SAS',\n",
       " 'Data Analyst',\n",
       " 'Master Data Management Business Analyst',\n",
       " 'Data Analytics and Interpretation Business Analyst',\n",
       " 'TA Data Analyst',\n",
       " 'Senior Data Analyst',\n",
       " 'Hiring For Data Analyst',\n",
       " 'Business Analyst / Data Analyst',\n",
       " 'Data Analyst']"
      ]
     },
     "execution_count": 13,
     "metadata": {},
     "output_type": "execute_result"
    }
   ],
   "source": [
    "for i in titles_tags:\n",
    "    title=i.text\n",
    "    job_titles.append(title)\n",
    "job_titles[0:10]"
   ]
  },
  {
   "cell_type": "code",
   "execution_count": 14,
   "id": "932df230",
   "metadata": {},
   "outputs": [
    {
     "data": {
      "text/plain": [
       "[<selenium.webdriver.remote.webelement.WebElement (session=\"22364b1edf1f2f96cee7e61f194f761f\", element=\"ae7e7156-45fe-4e50-b439-2b585c23fabd\")>,\n",
       " <selenium.webdriver.remote.webelement.WebElement (session=\"22364b1edf1f2f96cee7e61f194f761f\", element=\"4e10c805-47ac-450e-ba43-27bf45beff7c\")>,\n",
       " <selenium.webdriver.remote.webelement.WebElement (session=\"22364b1edf1f2f96cee7e61f194f761f\", element=\"e13cc3a6-b7ec-4677-8d05-6a62696fdbd8\")>,\n",
       " <selenium.webdriver.remote.webelement.WebElement (session=\"22364b1edf1f2f96cee7e61f194f761f\", element=\"9bd650a5-6bba-4e88-ad60-2467115e7da2\")>,\n",
       " <selenium.webdriver.remote.webelement.WebElement (session=\"22364b1edf1f2f96cee7e61f194f761f\", element=\"618ff221-4b55-44ba-b75b-ee1649da4e85\")>,\n",
       " <selenium.webdriver.remote.webelement.WebElement (session=\"22364b1edf1f2f96cee7e61f194f761f\", element=\"827027b3-3979-416e-8170-1808ff293b12\")>,\n",
       " <selenium.webdriver.remote.webelement.WebElement (session=\"22364b1edf1f2f96cee7e61f194f761f\", element=\"8a84b053-4afd-4c14-8e62-f1adb005f0d9\")>,\n",
       " <selenium.webdriver.remote.webelement.WebElement (session=\"22364b1edf1f2f96cee7e61f194f761f\", element=\"a4d982fb-caf8-41b3-b2e8-b9e586a9d36f\")>,\n",
       " <selenium.webdriver.remote.webelement.WebElement (session=\"22364b1edf1f2f96cee7e61f194f761f\", element=\"6e7e8efc-5cfd-48a3-9d2d-aa0dce1b90b1\")>,\n",
       " <selenium.webdriver.remote.webelement.WebElement (session=\"22364b1edf1f2f96cee7e61f194f761f\", element=\"f5cd18bc-ed82-4ad4-8663-949a669c8c58\")>]"
      ]
     },
     "execution_count": 14,
     "metadata": {},
     "output_type": "execute_result"
    }
   ],
   "source": [
    "#extracting all tags having company title\n",
    "company_tags=driver.find_elements_by_xpath(\"//a[@ class='subTitle ellipsis fleft']\")\n",
    "company_tags[0:10]"
   ]
  },
  {
   "cell_type": "code",
   "execution_count": 15,
   "id": "f4cc3f8f",
   "metadata": {},
   "outputs": [
    {
     "data": {
      "text/plain": [
       "['METRO Cash & Carry',\n",
       " 'Leading US MNC into Analytics',\n",
       " 'PharmEasy',\n",
       " 'Accenture',\n",
       " 'Accenture',\n",
       " 'Novo Nordisk India',\n",
       " 'GAME SHOW NETWORK',\n",
       " 'Taikee',\n",
       " 'cliqhr.com',\n",
       " 'Plum']"
      ]
     },
     "execution_count": 15,
     "metadata": {},
     "output_type": "execute_result"
    }
   ],
   "source": [
    "for i in company_tags:\n",
    "    company=i.text\n",
    "    company_name.append(company)\n",
    "company_name[0:10]"
   ]
  },
  {
   "cell_type": "code",
   "execution_count": 16,
   "id": "99ec5e8d",
   "metadata": {},
   "outputs": [
    {
     "data": {
      "text/plain": [
       "[<selenium.webdriver.remote.webelement.WebElement (session=\"22364b1edf1f2f96cee7e61f194f761f\", element=\"b483a663-73c1-4af8-aa42-ab0633dedaeb\")>,\n",
       " <selenium.webdriver.remote.webelement.WebElement (session=\"22364b1edf1f2f96cee7e61f194f761f\", element=\"58f0379d-80b5-4142-91bb-d862459ed3bb\")>,\n",
       " <selenium.webdriver.remote.webelement.WebElement (session=\"22364b1edf1f2f96cee7e61f194f761f\", element=\"34e4b65c-5772-4dc4-8b73-0db64ad3dc9b\")>,\n",
       " <selenium.webdriver.remote.webelement.WebElement (session=\"22364b1edf1f2f96cee7e61f194f761f\", element=\"65ae335f-1357-488f-a03a-df4895fc358f\")>,\n",
       " <selenium.webdriver.remote.webelement.WebElement (session=\"22364b1edf1f2f96cee7e61f194f761f\", element=\"a0f75449-dc78-4517-be3a-f5e2a8ec5eaa\")>,\n",
       " <selenium.webdriver.remote.webelement.WebElement (session=\"22364b1edf1f2f96cee7e61f194f761f\", element=\"e1a8719a-cf24-433c-bfda-c72b62cb5aa2\")>,\n",
       " <selenium.webdriver.remote.webelement.WebElement (session=\"22364b1edf1f2f96cee7e61f194f761f\", element=\"9d178007-8c52-4510-b4f8-d8ac87d2b436\")>,\n",
       " <selenium.webdriver.remote.webelement.WebElement (session=\"22364b1edf1f2f96cee7e61f194f761f\", element=\"d75c713e-7210-4764-904d-4d5bd866b7b5\")>,\n",
       " <selenium.webdriver.remote.webelement.WebElement (session=\"22364b1edf1f2f96cee7e61f194f761f\", element=\"0874e152-da41-4215-b079-ac76e6dd22e4\")>,\n",
       " <selenium.webdriver.remote.webelement.WebElement (session=\"22364b1edf1f2f96cee7e61f194f761f\", element=\"c7286d9b-5aca-43c0-a09c-fec3997318e7\")>]"
      ]
     },
     "execution_count": 16,
     "metadata": {},
     "output_type": "execute_result"
    }
   ],
   "source": [
    "#extracting all tags having location title\n",
    "location_tags=driver.find_elements_by_xpath(\"//li[@ class='fleft grey-text br2 placeHolderLi location']/span[1]\")\n",
    "location_tags[0:10]"
   ]
  },
  {
   "cell_type": "code",
   "execution_count": 17,
   "id": "3208b0e0",
   "metadata": {},
   "outputs": [
    {
     "data": {
      "text/plain": [
       "['Bangalore/Bengaluru',\n",
       " 'Gurgaon/Gurugram, Bangalore/Bengaluru, Delhi / NCR',\n",
       " 'Bangalore/Bengaluru',\n",
       " 'Bangalore/Bengaluru',\n",
       " 'Bangalore/Bengaluru',\n",
       " 'Bangalore/Bengaluru',\n",
       " 'Bangalore/Bengaluru',\n",
       " 'Bangalore/Bengaluru',\n",
       " 'Mumbai, Hyderabad/Secunderabad, Pune, Chennai, Bangalore/Bengaluru',\n",
       " 'Bangalore/Bengaluru']"
      ]
     },
     "execution_count": 17,
     "metadata": {},
     "output_type": "execute_result"
    }
   ],
   "source": [
    "for i in location_tags:\n",
    "    location=i.text\n",
    "    location_name.append(location)\n",
    "location_name[0:10]"
   ]
  },
  {
   "cell_type": "code",
   "execution_count": 18,
   "id": "bd5bcf8b",
   "metadata": {},
   "outputs": [
    {
     "name": "stdout",
     "output_type": "stream",
     "text": [
      "20 20 20\n"
     ]
    }
   ],
   "source": [
    "print(len(job_titles),len(company_name),len(location_name))"
   ]
  },
  {
   "cell_type": "code",
   "execution_count": 20,
   "id": "b5e65042",
   "metadata": {},
   "outputs": [],
   "source": [
    "jobs=pd.DataFrame({'title':job_titles,'company':company_name,'location':location_name})"
   ]
  },
  {
   "cell_type": "code",
   "execution_count": 23,
   "id": "fd3a3bd1",
   "metadata": {},
   "outputs": [
    {
     "data": {
      "text/html": [
       "<div>\n",
       "<style scoped>\n",
       "    .dataframe tbody tr th:only-of-type {\n",
       "        vertical-align: middle;\n",
       "    }\n",
       "\n",
       "    .dataframe tbody tr th {\n",
       "        vertical-align: top;\n",
       "    }\n",
       "\n",
       "    .dataframe thead th {\n",
       "        text-align: right;\n",
       "    }\n",
       "</style>\n",
       "<table border=\"1\" class=\"dataframe\">\n",
       "  <thead>\n",
       "    <tr style=\"text-align: right;\">\n",
       "      <th></th>\n",
       "      <th>title</th>\n",
       "      <th>company</th>\n",
       "      <th>location</th>\n",
       "    </tr>\n",
       "  </thead>\n",
       "  <tbody>\n",
       "    <tr>\n",
       "      <th>0</th>\n",
       "      <td>Data Analyst / Business Analyst</td>\n",
       "      <td>METRO Cash &amp; Carry</td>\n",
       "      <td>Bangalore/Bengaluru</td>\n",
       "    </tr>\n",
       "    <tr>\n",
       "      <th>1</th>\n",
       "      <td>data analyst/ data analytics / Business analys...</td>\n",
       "      <td>Leading US MNC into Analytics</td>\n",
       "      <td>Gurgaon/Gurugram, Bangalore/Bengaluru, Delhi /...</td>\n",
       "    </tr>\n",
       "    <tr>\n",
       "      <th>2</th>\n",
       "      <td>Data Analyst</td>\n",
       "      <td>PharmEasy</td>\n",
       "      <td>Bangalore/Bengaluru</td>\n",
       "    </tr>\n",
       "    <tr>\n",
       "      <th>3</th>\n",
       "      <td>Master Data Management Business Analyst</td>\n",
       "      <td>Accenture</td>\n",
       "      <td>Bangalore/Bengaluru</td>\n",
       "    </tr>\n",
       "    <tr>\n",
       "      <th>4</th>\n",
       "      <td>Data Analytics and Interpretation Business Ana...</td>\n",
       "      <td>Accenture</td>\n",
       "      <td>Bangalore/Bengaluru</td>\n",
       "    </tr>\n",
       "    <tr>\n",
       "      <th>5</th>\n",
       "      <td>TA Data Analyst</td>\n",
       "      <td>Novo Nordisk India</td>\n",
       "      <td>Bangalore/Bengaluru</td>\n",
       "    </tr>\n",
       "    <tr>\n",
       "      <th>6</th>\n",
       "      <td>Senior Data Analyst</td>\n",
       "      <td>GAME SHOW NETWORK</td>\n",
       "      <td>Bangalore/Bengaluru</td>\n",
       "    </tr>\n",
       "    <tr>\n",
       "      <th>7</th>\n",
       "      <td>Hiring For Data Analyst</td>\n",
       "      <td>Taikee</td>\n",
       "      <td>Bangalore/Bengaluru</td>\n",
       "    </tr>\n",
       "    <tr>\n",
       "      <th>8</th>\n",
       "      <td>Business Analyst / Data Analyst</td>\n",
       "      <td>cliqhr.com</td>\n",
       "      <td>Mumbai, Hyderabad/Secunderabad, Pune, Chennai,...</td>\n",
       "    </tr>\n",
       "    <tr>\n",
       "      <th>9</th>\n",
       "      <td>Data Analyst</td>\n",
       "      <td>Plum</td>\n",
       "      <td>Bangalore/Bengaluru</td>\n",
       "    </tr>\n",
       "  </tbody>\n",
       "</table>\n",
       "</div>"
      ],
      "text/plain": [
       "                                               title  \\\n",
       "0                    Data Analyst / Business Analyst   \n",
       "1  data analyst/ data analytics / Business analys...   \n",
       "2                                       Data Analyst   \n",
       "3            Master Data Management Business Analyst   \n",
       "4  Data Analytics and Interpretation Business Ana...   \n",
       "5                                    TA Data Analyst   \n",
       "6                                Senior Data Analyst   \n",
       "7                            Hiring For Data Analyst   \n",
       "8                    Business Analyst / Data Analyst   \n",
       "9                                       Data Analyst   \n",
       "\n",
       "                         company  \\\n",
       "0             METRO Cash & Carry   \n",
       "1  Leading US MNC into Analytics   \n",
       "2                      PharmEasy   \n",
       "3                      Accenture   \n",
       "4                      Accenture   \n",
       "5             Novo Nordisk India   \n",
       "6              GAME SHOW NETWORK   \n",
       "7                         Taikee   \n",
       "8                     cliqhr.com   \n",
       "9                           Plum   \n",
       "\n",
       "                                            location  \n",
       "0                                Bangalore/Bengaluru  \n",
       "1  Gurgaon/Gurugram, Bangalore/Bengaluru, Delhi /...  \n",
       "2                                Bangalore/Bengaluru  \n",
       "3                                Bangalore/Bengaluru  \n",
       "4                                Bangalore/Bengaluru  \n",
       "5                                Bangalore/Bengaluru  \n",
       "6                                Bangalore/Bengaluru  \n",
       "7                                Bangalore/Bengaluru  \n",
       "8  Mumbai, Hyderabad/Secunderabad, Pune, Chennai,...  \n",
       "9                                Bangalore/Bengaluru  "
      ]
     },
     "execution_count": 23,
     "metadata": {},
     "output_type": "execute_result"
    }
   ],
   "source": [
    "jobs.head(10)"
   ]
  },
  {
   "cell_type": "code",
   "execution_count": null,
   "id": "7f2a39dc",
   "metadata": {},
   "outputs": [],
   "source": [
    "#Q2: Write a python program to scrape data for “Data Scientist” Job position in “Bangalore” location. You have to scrape the job-title, job-location, company_name. You have to scrape first 10 jobs data. "
   ]
  },
  {
   "cell_type": "code",
   "execution_count": 24,
   "id": "fda6f5b8",
   "metadata": {},
   "outputs": [],
   "source": [
    "from selenium import webdriver\n",
    "import pandas as pd\n",
    "import selenium\n",
    "import numpy as np\n",
    "import time\n",
    "import warnings\n",
    "warnings.filterwarnings('ignore')"
   ]
  },
  {
   "cell_type": "code",
   "execution_count": 25,
   "id": "931b500e",
   "metadata": {},
   "outputs": [],
   "source": [
    "driver=webdriver.Chrome(r'C:\\Users\\sandeep\\.jupyter\\webdrv\\chromedriver')"
   ]
  },
  {
   "cell_type": "code",
   "execution_count": 26,
   "id": "9c7b6247",
   "metadata": {},
   "outputs": [],
   "source": [
    "driver = webdriver.Chrome(r'C:\\Users\\sandeep\\.jupyter\\webdrv\\chromedriver')  # Optional argument, if not specified will search path.\n",
    "driver.get(' https://www.naukri.com/ ');\n",
    "time.sleep(5)\n"
   ]
  },
  {
   "cell_type": "code",
   "execution_count": 27,
   "id": "3efb84e1",
   "metadata": {},
   "outputs": [],
   "source": [
    "#finding element for job search bar\n",
    "search_field_designation=driver.find_element_by_class_name(\"suggestor-input \")\n",
    "search_field_designation.send_keys(\"data scientist\")"
   ]
  },
  {
   "cell_type": "code",
   "execution_count": 28,
   "id": "ffb1856c",
   "metadata": {},
   "outputs": [],
   "source": [
    "#finding element for location\n",
    "search_field_loc=driver.find_element_by_xpath(\" /html/body/div/div[2]/div[3]/div/div/div[5]/div/div/div/input\")\n",
    "search_field_loc.send_keys(\"banglore\")"
   ]
  },
  {
   "cell_type": "code",
   "execution_count": 29,
   "id": "a20ed268",
   "metadata": {},
   "outputs": [],
   "source": [
    "#finding element for search bar\n",
    "\n",
    "search = driver.find_element_by_xpath(\"/html/body/div/div[2]/div[3]/div/div/div[6]\")\n",
    "driver.execute_script(\"arguments[0].click();\", search)"
   ]
  },
  {
   "cell_type": "code",
   "execution_count": 31,
   "id": "c58a576a",
   "metadata": {},
   "outputs": [],
   "source": [
    "job_titles=[]\n",
    "company_name=[]\n",
    "location_name=[]"
   ]
  },
  {
   "cell_type": "code",
   "execution_count": 32,
   "id": "4e5a730a",
   "metadata": {},
   "outputs": [
    {
     "data": {
      "text/plain": [
       "[<selenium.webdriver.remote.webelement.WebElement (session=\"818e6ee259025e65c81f81ed2672983a\", element=\"1ce294a7-003e-4e86-8daa-68875f78049d\")>,\n",
       " <selenium.webdriver.remote.webelement.WebElement (session=\"818e6ee259025e65c81f81ed2672983a\", element=\"87215078-47c4-4ec0-b039-03f1973e8506\")>,\n",
       " <selenium.webdriver.remote.webelement.WebElement (session=\"818e6ee259025e65c81f81ed2672983a\", element=\"aa3a8b15-8506-46ba-b3b1-2ae92fe78e0a\")>,\n",
       " <selenium.webdriver.remote.webelement.WebElement (session=\"818e6ee259025e65c81f81ed2672983a\", element=\"6c2472ea-005e-43a7-be18-da3dea2c3692\")>,\n",
       " <selenium.webdriver.remote.webelement.WebElement (session=\"818e6ee259025e65c81f81ed2672983a\", element=\"33f2b938-666c-49b1-b5a3-e2787892e9c3\")>,\n",
       " <selenium.webdriver.remote.webelement.WebElement (session=\"818e6ee259025e65c81f81ed2672983a\", element=\"77349e56-787b-44de-985b-558cad75a04b\")>,\n",
       " <selenium.webdriver.remote.webelement.WebElement (session=\"818e6ee259025e65c81f81ed2672983a\", element=\"900489cb-7606-4516-a9d4-2826a33b761a\")>,\n",
       " <selenium.webdriver.remote.webelement.WebElement (session=\"818e6ee259025e65c81f81ed2672983a\", element=\"4c1190e5-6c60-444e-abf2-a218edc3c090\")>,\n",
       " <selenium.webdriver.remote.webelement.WebElement (session=\"818e6ee259025e65c81f81ed2672983a\", element=\"f6986aaf-ac92-4c47-be80-23a3f141e155\")>,\n",
       " <selenium.webdriver.remote.webelement.WebElement (session=\"818e6ee259025e65c81f81ed2672983a\", element=\"59d47318-ff96-4c5f-bc80-4a076229a152\")>]"
      ]
     },
     "execution_count": 32,
     "metadata": {},
     "output_type": "execute_result"
    }
   ],
   "source": [
    "#extracting all tags having job title\n",
    "titles_tags=driver.find_elements_by_xpath(\"//a[@ class='title fw500 ellipsis']\")\n",
    "titles_tags[0:10]"
   ]
  },
  {
   "cell_type": "code",
   "execution_count": 33,
   "id": "cb75669e",
   "metadata": {},
   "outputs": [
    {
     "data": {
      "text/plain": [
       "['AI Technologist Vacancy',\n",
       " 'Job Opening with Wipro For Data Scientist position',\n",
       " 'Research Associate II',\n",
       " 'Research Engineer: Deep Learning & Collective Intelligence',\n",
       " 'Data Scientist',\n",
       " 'Data Scientist - Immediate Joiners',\n",
       " 'Data Scientist- AI/ML- R&D',\n",
       " 'Urgent Hiring For AI Data Scientist',\n",
       " 'Data Scientist',\n",
       " 'Data Scientist']"
      ]
     },
     "execution_count": 33,
     "metadata": {},
     "output_type": "execute_result"
    }
   ],
   "source": [
    "for i in titles_tags:\n",
    "    title=i.text\n",
    "    job_titles.append(title)\n",
    "job_titles[0:10]"
   ]
  },
  {
   "cell_type": "code",
   "execution_count": 34,
   "id": "0dbd98ec",
   "metadata": {},
   "outputs": [
    {
     "data": {
      "text/plain": [
       "[<selenium.webdriver.remote.webelement.WebElement (session=\"818e6ee259025e65c81f81ed2672983a\", element=\"f004991d-b988-40d7-ab92-6d24b95ac2ed\")>,\n",
       " <selenium.webdriver.remote.webelement.WebElement (session=\"818e6ee259025e65c81f81ed2672983a\", element=\"8be1b02b-78de-4a76-9999-acfb4b0ada4b\")>,\n",
       " <selenium.webdriver.remote.webelement.WebElement (session=\"818e6ee259025e65c81f81ed2672983a\", element=\"594c9aa0-ec54-4d74-a0d8-ef8a8e6ca4d3\")>,\n",
       " <selenium.webdriver.remote.webelement.WebElement (session=\"818e6ee259025e65c81f81ed2672983a\", element=\"84acf6f1-c079-49d6-a78d-ff270febee5f\")>,\n",
       " <selenium.webdriver.remote.webelement.WebElement (session=\"818e6ee259025e65c81f81ed2672983a\", element=\"173726cc-362d-4499-b9ee-cb8cfb997f00\")>,\n",
       " <selenium.webdriver.remote.webelement.WebElement (session=\"818e6ee259025e65c81f81ed2672983a\", element=\"72d6d15f-865c-4bca-a422-281696c02b3b\")>,\n",
       " <selenium.webdriver.remote.webelement.WebElement (session=\"818e6ee259025e65c81f81ed2672983a\", element=\"2d1ad83e-9622-485c-9d61-92cba174979b\")>,\n",
       " <selenium.webdriver.remote.webelement.WebElement (session=\"818e6ee259025e65c81f81ed2672983a\", element=\"70112c2e-7622-44d1-a1b3-cd857d2d08f5\")>,\n",
       " <selenium.webdriver.remote.webelement.WebElement (session=\"818e6ee259025e65c81f81ed2672983a\", element=\"e6e21c69-29af-4100-b840-9da5bbd8634a\")>,\n",
       " <selenium.webdriver.remote.webelement.WebElement (session=\"818e6ee259025e65c81f81ed2672983a\", element=\"a73e3710-1619-4fdc-9bbb-7fd12ddd19bf\")>]"
      ]
     },
     "execution_count": 34,
     "metadata": {},
     "output_type": "execute_result"
    }
   ],
   "source": [
    "#extracting all tags having company title\n",
    "company_tags=driver.find_elements_by_xpath(\"//a[@ class='subTitle ellipsis fleft']\")\n",
    "company_tags[0:10]"
   ]
  },
  {
   "cell_type": "code",
   "execution_count": 35,
   "id": "3267f3a9",
   "metadata": {},
   "outputs": [
    {
     "data": {
      "text/plain": [
       "['Wipro',\n",
       " 'Wipro',\n",
       " 'Philips',\n",
       " 'Siemens',\n",
       " 'Genpact',\n",
       " 'Bristlecone',\n",
       " 'EXL',\n",
       " 'Ashkom Media India Private Limited',\n",
       " 'UPL',\n",
       " 'UPL']"
      ]
     },
     "execution_count": 35,
     "metadata": {},
     "output_type": "execute_result"
    }
   ],
   "source": [
    "for i in company_tags:\n",
    "    company=i.text\n",
    "    company_name.append(company)\n",
    "company_name[0:10]"
   ]
  },
  {
   "cell_type": "code",
   "execution_count": 36,
   "id": "5583007c",
   "metadata": {},
   "outputs": [
    {
     "data": {
      "text/plain": [
       "[<selenium.webdriver.remote.webelement.WebElement (session=\"818e6ee259025e65c81f81ed2672983a\", element=\"17cbf4e8-51ec-4621-afc4-ca8a38d7e172\")>,\n",
       " <selenium.webdriver.remote.webelement.WebElement (session=\"818e6ee259025e65c81f81ed2672983a\", element=\"b875e179-ad70-4e21-9365-33cc256318e2\")>,\n",
       " <selenium.webdriver.remote.webelement.WebElement (session=\"818e6ee259025e65c81f81ed2672983a\", element=\"bb567a95-d0b5-442c-a8a9-e7623d82657a\")>,\n",
       " <selenium.webdriver.remote.webelement.WebElement (session=\"818e6ee259025e65c81f81ed2672983a\", element=\"93a0afb4-38c2-4693-9bcc-55f466333b98\")>,\n",
       " <selenium.webdriver.remote.webelement.WebElement (session=\"818e6ee259025e65c81f81ed2672983a\", element=\"12221a4f-cb98-4390-900b-f480ad525f1c\")>,\n",
       " <selenium.webdriver.remote.webelement.WebElement (session=\"818e6ee259025e65c81f81ed2672983a\", element=\"084b3ea0-3484-4132-bdc3-2ec5a4306888\")>,\n",
       " <selenium.webdriver.remote.webelement.WebElement (session=\"818e6ee259025e65c81f81ed2672983a\", element=\"e29da3ad-17bf-4bb8-8fe4-75f4b5255d28\")>,\n",
       " <selenium.webdriver.remote.webelement.WebElement (session=\"818e6ee259025e65c81f81ed2672983a\", element=\"6576b056-b9b5-4a20-a606-c29766f776bc\")>,\n",
       " <selenium.webdriver.remote.webelement.WebElement (session=\"818e6ee259025e65c81f81ed2672983a\", element=\"0b96f6db-5a69-436e-b376-b3a9fc88fb15\")>,\n",
       " <selenium.webdriver.remote.webelement.WebElement (session=\"818e6ee259025e65c81f81ed2672983a\", element=\"d8d863e7-0529-4b2a-9507-54d0131d74a7\")>]"
      ]
     },
     "execution_count": 36,
     "metadata": {},
     "output_type": "execute_result"
    }
   ],
   "source": [
    "#extracting all tags having location title\n",
    "location_tags=driver.find_elements_by_xpath(\"//li[@ class='fleft grey-text br2 placeHolderLi location']/span[1]\")\n",
    "location_tags[0:10]"
   ]
  },
  {
   "cell_type": "code",
   "execution_count": 37,
   "id": "6c1c38d0",
   "metadata": {},
   "outputs": [
    {
     "data": {
      "text/plain": [
       "['Kolkata, Hyderabad/Secunderabad, Pune, Ahmedabad, Chennai, Bangalore/Bengaluru, Delhi / NCR, Mumbai (All Areas)',\n",
       " 'Kolkata, Hyderabad/Secunderabad, Chennai, Bangalore/Bengaluru, Delhi / NCR, Mumbai (All Areas)',\n",
       " 'Bangalore/Bengaluru',\n",
       " 'Bangalore/Bengaluru',\n",
       " 'Hyderabad/Secunderabad, Bangalore/Bengaluru, Delhi / NCR',\n",
       " 'Noida, Mumbai, Pune, Bangalore/Bengaluru',\n",
       " 'Noida, Hyderabad/Secunderabad, Pune, Gurgaon/Gurugram, Chennai, Bangalore/Bengaluru, Delhi / NCR',\n",
       " 'New Delhi, Bangalore/Bengaluru, Mumbai (All Areas)',\n",
       " 'Mumbai, Bangalore/Bengaluru',\n",
       " 'Bangalore/Bengaluru, Mumbai (All Areas)']"
      ]
     },
     "execution_count": 37,
     "metadata": {},
     "output_type": "execute_result"
    }
   ],
   "source": [
    "for i in location_tags:\n",
    "    location=i.text\n",
    "    location_name.append(location)\n",
    "location_name[0:10]"
   ]
  },
  {
   "cell_type": "code",
   "execution_count": 38,
   "id": "ae55a24d",
   "metadata": {},
   "outputs": [
    {
     "name": "stdout",
     "output_type": "stream",
     "text": [
      "20 20 20\n"
     ]
    }
   ],
   "source": [
    "print(len(job_titles),len(company_name),len(location_name))"
   ]
  },
  {
   "cell_type": "code",
   "execution_count": 39,
   "id": "86752c44",
   "metadata": {},
   "outputs": [],
   "source": [
    "jobs=pd.DataFrame({'title':job_titles,'company':company_name,'location':location_name})"
   ]
  },
  {
   "cell_type": "code",
   "execution_count": 40,
   "id": "a249295f",
   "metadata": {},
   "outputs": [
    {
     "data": {
      "text/html": [
       "<div>\n",
       "<style scoped>\n",
       "    .dataframe tbody tr th:only-of-type {\n",
       "        vertical-align: middle;\n",
       "    }\n",
       "\n",
       "    .dataframe tbody tr th {\n",
       "        vertical-align: top;\n",
       "    }\n",
       "\n",
       "    .dataframe thead th {\n",
       "        text-align: right;\n",
       "    }\n",
       "</style>\n",
       "<table border=\"1\" class=\"dataframe\">\n",
       "  <thead>\n",
       "    <tr style=\"text-align: right;\">\n",
       "      <th></th>\n",
       "      <th>title</th>\n",
       "      <th>company</th>\n",
       "      <th>location</th>\n",
       "    </tr>\n",
       "  </thead>\n",
       "  <tbody>\n",
       "    <tr>\n",
       "      <th>0</th>\n",
       "      <td>AI Technologist Vacancy</td>\n",
       "      <td>Wipro</td>\n",
       "      <td>Kolkata, Hyderabad/Secunderabad, Pune, Ahmedab...</td>\n",
       "    </tr>\n",
       "    <tr>\n",
       "      <th>1</th>\n",
       "      <td>Job Opening with Wipro For Data Scientist posi...</td>\n",
       "      <td>Wipro</td>\n",
       "      <td>Kolkata, Hyderabad/Secunderabad, Chennai, Bang...</td>\n",
       "    </tr>\n",
       "    <tr>\n",
       "      <th>2</th>\n",
       "      <td>Research Associate II</td>\n",
       "      <td>Philips</td>\n",
       "      <td>Bangalore/Bengaluru</td>\n",
       "    </tr>\n",
       "    <tr>\n",
       "      <th>3</th>\n",
       "      <td>Research Engineer: Deep Learning &amp; Collective ...</td>\n",
       "      <td>Siemens</td>\n",
       "      <td>Bangalore/Bengaluru</td>\n",
       "    </tr>\n",
       "    <tr>\n",
       "      <th>4</th>\n",
       "      <td>Data Scientist</td>\n",
       "      <td>Genpact</td>\n",
       "      <td>Hyderabad/Secunderabad, Bangalore/Bengaluru, D...</td>\n",
       "    </tr>\n",
       "    <tr>\n",
       "      <th>5</th>\n",
       "      <td>Data Scientist - Immediate Joiners</td>\n",
       "      <td>Bristlecone</td>\n",
       "      <td>Noida, Mumbai, Pune, Bangalore/Bengaluru</td>\n",
       "    </tr>\n",
       "    <tr>\n",
       "      <th>6</th>\n",
       "      <td>Data Scientist- AI/ML- R&amp;D</td>\n",
       "      <td>EXL</td>\n",
       "      <td>Noida, Hyderabad/Secunderabad, Pune, Gurgaon/G...</td>\n",
       "    </tr>\n",
       "    <tr>\n",
       "      <th>7</th>\n",
       "      <td>Urgent Hiring For AI Data Scientist</td>\n",
       "      <td>Ashkom Media India Private Limited</td>\n",
       "      <td>New Delhi, Bangalore/Bengaluru, Mumbai (All Ar...</td>\n",
       "    </tr>\n",
       "    <tr>\n",
       "      <th>8</th>\n",
       "      <td>Data Scientist</td>\n",
       "      <td>UPL</td>\n",
       "      <td>Mumbai, Bangalore/Bengaluru</td>\n",
       "    </tr>\n",
       "    <tr>\n",
       "      <th>9</th>\n",
       "      <td>Data Scientist</td>\n",
       "      <td>UPL</td>\n",
       "      <td>Bangalore/Bengaluru, Mumbai (All Areas)</td>\n",
       "    </tr>\n",
       "  </tbody>\n",
       "</table>\n",
       "</div>"
      ],
      "text/plain": [
       "                                               title  \\\n",
       "0                            AI Technologist Vacancy   \n",
       "1  Job Opening with Wipro For Data Scientist posi...   \n",
       "2                              Research Associate II   \n",
       "3  Research Engineer: Deep Learning & Collective ...   \n",
       "4                                     Data Scientist   \n",
       "5                 Data Scientist - Immediate Joiners   \n",
       "6                         Data Scientist- AI/ML- R&D   \n",
       "7                Urgent Hiring For AI Data Scientist   \n",
       "8                                     Data Scientist   \n",
       "9                                     Data Scientist   \n",
       "\n",
       "                              company  \\\n",
       "0                               Wipro   \n",
       "1                               Wipro   \n",
       "2                             Philips   \n",
       "3                             Siemens   \n",
       "4                             Genpact   \n",
       "5                         Bristlecone   \n",
       "6                                 EXL   \n",
       "7  Ashkom Media India Private Limited   \n",
       "8                                 UPL   \n",
       "9                                 UPL   \n",
       "\n",
       "                                            location  \n",
       "0  Kolkata, Hyderabad/Secunderabad, Pune, Ahmedab...  \n",
       "1  Kolkata, Hyderabad/Secunderabad, Chennai, Bang...  \n",
       "2                                Bangalore/Bengaluru  \n",
       "3                                Bangalore/Bengaluru  \n",
       "4  Hyderabad/Secunderabad, Bangalore/Bengaluru, D...  \n",
       "5           Noida, Mumbai, Pune, Bangalore/Bengaluru  \n",
       "6  Noida, Hyderabad/Secunderabad, Pune, Gurgaon/G...  \n",
       "7  New Delhi, Bangalore/Bengaluru, Mumbai (All Ar...  \n",
       "8                        Mumbai, Bangalore/Bengaluru  \n",
       "9            Bangalore/Bengaluru, Mumbai (All Areas)  "
      ]
     },
     "execution_count": 40,
     "metadata": {},
     "output_type": "execute_result"
    }
   ],
   "source": [
    "jobs.head(10)"
   ]
  },
  {
   "cell_type": "code",
   "execution_count": null,
   "id": "983c7dba",
   "metadata": {},
   "outputs": [],
   "source": [
    "#3-scrap data from naukri.com@"
   ]
  },
  {
   "cell_type": "code",
   "execution_count": 1,
   "id": "32663e38",
   "metadata": {},
   "outputs": [],
   "source": [
    "from selenium import webdriver\n",
    "import pandas as pd\n",
    "import selenium\n",
    "import numpy as np\n",
    "import time\n",
    "import warnings\n",
    "warnings.filterwarnings('ignore')"
   ]
  },
  {
   "cell_type": "code",
   "execution_count": 3,
   "id": "72038cb2",
   "metadata": {},
   "outputs": [],
   "source": [
    "driver=webdriver.Chrome(r'C:\\Users\\sandeep\\.jupyter\\webdrv\\chromedriver')"
   ]
  },
  {
   "cell_type": "code",
   "execution_count": 4,
   "id": "f8689bdc",
   "metadata": {},
   "outputs": [],
   "source": [
    "driver = webdriver.Chrome(r'C:\\Users\\sandeep\\.jupyter\\webdrv\\chromedriver')  # Optional argument, if not specified will search path.\n",
    "driver.get(' https://www.naukri.com/ ');\n",
    "time.sleep(5)"
   ]
  },
  {
   "cell_type": "code",
   "execution_count": 5,
   "id": "d4dce2c7",
   "metadata": {},
   "outputs": [],
   "source": [
    "#finding element for job search bar\n",
    "search_field_designation=driver.find_element_by_class_name(\"suggestor-input \")\n",
    "search_field_designation.send_keys(\"data scientist\")"
   ]
  },
  {
   "cell_type": "code",
   "execution_count": 6,
   "id": "fe8ab556",
   "metadata": {},
   "outputs": [],
   "source": [
    "job_titles=[]\n",
    "company_name=[]\n",
    "location_name=[]\n",
    "experience_years=[]\n",
    "salary_drawn=[]"
   ]
  },
  {
   "cell_type": "code",
   "execution_count": 7,
   "id": "4b2466ee",
   "metadata": {},
   "outputs": [
    {
     "data": {
      "text/plain": [
       "[<selenium.webdriver.remote.webelement.WebElement (session=\"ca0978d3a52e21adc18d984d64906f50\", element=\"125194e7-4403-4537-84d7-37d4644818f2\")>,\n",
       " <selenium.webdriver.remote.webelement.WebElement (session=\"ca0978d3a52e21adc18d984d64906f50\", element=\"cf2299f6-ea3a-4b5f-86a4-14da34e16943\")>,\n",
       " <selenium.webdriver.remote.webelement.WebElement (session=\"ca0978d3a52e21adc18d984d64906f50\", element=\"a94ec2e4-415a-45b1-9da8-f06231cd75fb\")>,\n",
       " <selenium.webdriver.remote.webelement.WebElement (session=\"ca0978d3a52e21adc18d984d64906f50\", element=\"4db587c8-2210-483d-9dec-c8e456420e24\")>,\n",
       " <selenium.webdriver.remote.webelement.WebElement (session=\"ca0978d3a52e21adc18d984d64906f50\", element=\"91da40a9-8600-4d69-ab5a-c549552fd6c9\")>,\n",
       " <selenium.webdriver.remote.webelement.WebElement (session=\"ca0978d3a52e21adc18d984d64906f50\", element=\"4c7b6dd0-5b2c-4846-b8ac-0c0ac2520755\")>,\n",
       " <selenium.webdriver.remote.webelement.WebElement (session=\"ca0978d3a52e21adc18d984d64906f50\", element=\"43e558b8-2d06-45ff-b79c-82dd971107d9\")>,\n",
       " <selenium.webdriver.remote.webelement.WebElement (session=\"ca0978d3a52e21adc18d984d64906f50\", element=\"f9d6aec1-0bc4-40ed-93f4-2c42140261d5\")>,\n",
       " <selenium.webdriver.remote.webelement.WebElement (session=\"ca0978d3a52e21adc18d984d64906f50\", element=\"5b210172-74a1-4fa9-8490-df994919f2a7\")>,\n",
       " <selenium.webdriver.remote.webelement.WebElement (session=\"ca0978d3a52e21adc18d984d64906f50\", element=\"0b2344d6-fd04-46ca-8bc5-53e752f7b69d\")>]"
      ]
     },
     "execution_count": 7,
     "metadata": {},
     "output_type": "execute_result"
    }
   ],
   "source": [
    "titles_tags=driver.find_elements_by_xpath(\"//a[@ class='title fw500 ellipsis']\")\n",
    "titles_tags[0:10]"
   ]
  },
  {
   "cell_type": "code",
   "execution_count": 8,
   "id": "b40102fd",
   "metadata": {},
   "outputs": [
    {
     "data": {
      "text/plain": [
       "['Job Opening with Wipro For Data Scientist position',\n",
       " 'Data Scientist',\n",
       " 'Data Scientist -Machine Learning with Python',\n",
       " 'Data Scientist - Predictive Analytics',\n",
       " 'Data Scientist - Machine learning AI',\n",
       " 'Data Scientist - MIND Infotech',\n",
       " 'Data Scientist - MIND Infotech',\n",
       " 'Data Scientist - Internet Jobs - II',\n",
       " 'Machine Learning Engineer | Data Engineer | Data Scientist',\n",
       " 'Data Scientist (Python) Immediate Joiners']"
      ]
     },
     "execution_count": 8,
     "metadata": {},
     "output_type": "execute_result"
    }
   ],
   "source": [
    "for i in titles_tags:\n",
    "    title=i.text\n",
    "    job_titles.append(title)\n",
    "job_titles[0:10]    "
   ]
  },
  {
   "cell_type": "code",
   "execution_count": 9,
   "id": "41b019df",
   "metadata": {},
   "outputs": [
    {
     "data": {
      "text/plain": [
       "[<selenium.webdriver.remote.webelement.WebElement (session=\"ca0978d3a52e21adc18d984d64906f50\", element=\"f7afdb25-245a-4adf-988d-3a80885c68ab\")>,\n",
       " <selenium.webdriver.remote.webelement.WebElement (session=\"ca0978d3a52e21adc18d984d64906f50\", element=\"ebf90bdf-842f-4cc5-ae87-bf66bac3c8c0\")>,\n",
       " <selenium.webdriver.remote.webelement.WebElement (session=\"ca0978d3a52e21adc18d984d64906f50\", element=\"f8ea7b8e-bcbb-446e-97e0-e5793f6b111d\")>,\n",
       " <selenium.webdriver.remote.webelement.WebElement (session=\"ca0978d3a52e21adc18d984d64906f50\", element=\"618c4813-3936-4b0e-9e9e-56f2a4c3357b\")>,\n",
       " <selenium.webdriver.remote.webelement.WebElement (session=\"ca0978d3a52e21adc18d984d64906f50\", element=\"8cc54550-4ecb-4828-8a38-228b55ace2e0\")>,\n",
       " <selenium.webdriver.remote.webelement.WebElement (session=\"ca0978d3a52e21adc18d984d64906f50\", element=\"e9066331-063e-45a5-ad86-22e96a29c5bc\")>,\n",
       " <selenium.webdriver.remote.webelement.WebElement (session=\"ca0978d3a52e21adc18d984d64906f50\", element=\"a2315575-20fb-4fca-82f0-2fe6f02e5346\")>,\n",
       " <selenium.webdriver.remote.webelement.WebElement (session=\"ca0978d3a52e21adc18d984d64906f50\", element=\"baf404ce-d590-4d0e-a1f6-6caa9aac9ed2\")>,\n",
       " <selenium.webdriver.remote.webelement.WebElement (session=\"ca0978d3a52e21adc18d984d64906f50\", element=\"113be6f3-c53c-45b5-8dd7-a591efe2ea6c\")>,\n",
       " <selenium.webdriver.remote.webelement.WebElement (session=\"ca0978d3a52e21adc18d984d64906f50\", element=\"482a4e44-8aa2-4137-bc42-c1b3d2664136\")>]"
      ]
     },
     "execution_count": 9,
     "metadata": {},
     "output_type": "execute_result"
    }
   ],
   "source": [
    "#extracting all tags having company title\n",
    "company_tags=driver.find_elements_by_xpath(\"//a[@ class='subTitle ellipsis fleft']\")\n",
    "company_tags[0:10]"
   ]
  },
  {
   "cell_type": "code",
   "execution_count": 10,
   "id": "b6ebfe47",
   "metadata": {},
   "outputs": [
    {
     "data": {
      "text/plain": [
       "['Wipro',\n",
       " 'SS Supply Chain Solutions Pvt. Ltd. (3SC)',\n",
       " 'Genpact',\n",
       " 'Confidential',\n",
       " 'Teq Analytics',\n",
       " 'MOTHERSONSUMI INFOTECH & DESIGNS LIMITED',\n",
       " 'MOTHERSONSUMI INFOTECH & DESIGNS LIMITED',\n",
       " 'Jobs Territory',\n",
       " 'Tidyquant (OPC) Private Limited',\n",
       " 'Om Software Internet Solutions Private Limited']"
      ]
     },
     "execution_count": 10,
     "metadata": {},
     "output_type": "execute_result"
    }
   ],
   "source": [
    "for i in company_tags:\n",
    "    company=i.text\n",
    "    company_name.append(company)\n",
    "company_name[0:10]    "
   ]
  },
  {
   "cell_type": "code",
   "execution_count": 76,
   "id": "87994231",
   "metadata": {},
   "outputs": [
    {
     "data": {
      "text/plain": [
       "[<selenium.webdriver.remote.webelement.WebElement (session=\"ca0978d3a52e21adc18d984d64906f50\", element=\"f27255e3-df53-4a61-bf2a-b13747aaf111\")>,\n",
       " <selenium.webdriver.remote.webelement.WebElement (session=\"ca0978d3a52e21adc18d984d64906f50\", element=\"5a23214e-bbdf-4c37-8126-aae9ee20c115\")>,\n",
       " <selenium.webdriver.remote.webelement.WebElement (session=\"ca0978d3a52e21adc18d984d64906f50\", element=\"ec34b75b-3746-4ccf-8554-979f5f51953e\")>,\n",
       " <selenium.webdriver.remote.webelement.WebElement (session=\"ca0978d3a52e21adc18d984d64906f50\", element=\"27b3dafb-639f-464a-a55b-e888a49ab013\")>,\n",
       " <selenium.webdriver.remote.webelement.WebElement (session=\"ca0978d3a52e21adc18d984d64906f50\", element=\"dabd07cf-86b1-4703-97a5-182ba4ef318c\")>,\n",
       " <selenium.webdriver.remote.webelement.WebElement (session=\"ca0978d3a52e21adc18d984d64906f50\", element=\"6b19a2c2-9492-4b1e-9de5-34ad207f3c6f\")>,\n",
       " <selenium.webdriver.remote.webelement.WebElement (session=\"ca0978d3a52e21adc18d984d64906f50\", element=\"26a6854c-85aa-41ab-be2f-7ed5127d7f00\")>,\n",
       " <selenium.webdriver.remote.webelement.WebElement (session=\"ca0978d3a52e21adc18d984d64906f50\", element=\"951db901-389f-4b78-861a-03ae25f75339\")>,\n",
       " <selenium.webdriver.remote.webelement.WebElement (session=\"ca0978d3a52e21adc18d984d64906f50\", element=\"e0a482a9-9be0-4a43-b81f-080c4fa8e3ae\")>,\n",
       " <selenium.webdriver.remote.webelement.WebElement (session=\"ca0978d3a52e21adc18d984d64906f50\", element=\"749e5c6d-29c8-43d4-ad95-2f07f75f01e4\")>]"
      ]
     },
     "execution_count": 76,
     "metadata": {},
     "output_type": "execute_result"
    }
   ],
   "source": [
    "#extracting all tags having company title\n",
    "location_tags=driver.find_elements_by_xpath(\"//li[@ class='fleft grey-text br2 placeHolderLi location']\")\n",
    "location_tags[0:10]"
   ]
  },
  {
   "cell_type": "code",
   "execution_count": 77,
   "id": "6864b0da",
   "metadata": {},
   "outputs": [
    {
     "data": {
      "text/plain": [
       "['Kolkata, Hyderabad/Secunderabad, Chennai, Bangalore/Bengaluru, Delhi / NCR, Mumbai (All Areas)',\n",
       " 'Pune, Gurgaon/Gurugram, Bangalore/Bengaluru',\n",
       " 'Noida, New Delhi, Gurgaon/Gurugram, Delhi / NCR',\n",
       " 'Noida, Mumbai, Chandigarh, Hyderabad/Secunderabad, Pune, Chennai, Gurgaon/Gurugram, Coimbatore, Bangalore/Bengaluru',\n",
       " 'Bangalore/Bengaluru, Delhi / NCR, Mumbai (All Areas)',\n",
       " 'Noida',\n",
       " 'Noida',\n",
       " 'Bangalore/Bengaluru, Delhi / NCR, Mumbai (All Areas)',\n",
       " 'Chennai, Bangalore/Bengaluru, Delhi / NCR(Sector-8 Noida)',\n",
       " 'Noida, Pune, Ahmedabad']"
      ]
     },
     "execution_count": 77,
     "metadata": {},
     "output_type": "execute_result"
    }
   ],
   "source": [
    "for i in location_tags:\n",
    "    location=i.text\n",
    "    location_name.append(location)\n",
    "location_name[0:10]    \n",
    "    "
   ]
  },
  {
   "cell_type": "code",
   "execution_count": 53,
   "id": "a577c684",
   "metadata": {},
   "outputs": [
    {
     "data": {
      "text/plain": [
       "[<selenium.webdriver.remote.webelement.WebElement (session=\"ca0978d3a52e21adc18d984d64906f50\", element=\"de5c7df4-3356-42db-a20d-7f06f6f64af4\")>,\n",
       " <selenium.webdriver.remote.webelement.WebElement (session=\"ca0978d3a52e21adc18d984d64906f50\", element=\"c409501f-4969-4714-b91d-3c96a423f03d\")>,\n",
       " <selenium.webdriver.remote.webelement.WebElement (session=\"ca0978d3a52e21adc18d984d64906f50\", element=\"590e8b37-60a7-4555-9812-c3d7a714cab6\")>,\n",
       " <selenium.webdriver.remote.webelement.WebElement (session=\"ca0978d3a52e21adc18d984d64906f50\", element=\"a5b16fca-e7cd-4d57-a286-7149c1d4ed47\")>,\n",
       " <selenium.webdriver.remote.webelement.WebElement (session=\"ca0978d3a52e21adc18d984d64906f50\", element=\"5caa66bf-773b-481f-b060-d9fb79ace9e0\")>,\n",
       " <selenium.webdriver.remote.webelement.WebElement (session=\"ca0978d3a52e21adc18d984d64906f50\", element=\"a9db4d51-8575-4ae0-97fb-8a0f59b78a85\")>,\n",
       " <selenium.webdriver.remote.webelement.WebElement (session=\"ca0978d3a52e21adc18d984d64906f50\", element=\"53bf90b9-b60c-423b-a335-af28d2237f88\")>,\n",
       " <selenium.webdriver.remote.webelement.WebElement (session=\"ca0978d3a52e21adc18d984d64906f50\", element=\"eaacebf1-ff5e-418b-ad1f-f9afba5aa16a\")>,\n",
       " <selenium.webdriver.remote.webelement.WebElement (session=\"ca0978d3a52e21adc18d984d64906f50\", element=\"bf47495b-a31d-480e-b644-d42bc0b22715\")>,\n",
       " <selenium.webdriver.remote.webelement.WebElement (session=\"ca0978d3a52e21adc18d984d64906f50\", element=\"53ca5060-8449-4437-a1f2-5edfd8805ed2\")>]"
      ]
     },
     "execution_count": 53,
     "metadata": {},
     "output_type": "execute_result"
    }
   ],
   "source": [
    "#extracting all tags having company title\n",
    "experience_tags=driver.find_elements_by_xpath(\"//li[@ class='fleft grey-text br2 placeHolderLi experience']/span[1] \")\n",
    "experience_tags[0:10]\n",
    "experience_tags=driver.find_elements_by_xpath(\"//li[@class='fleft grey-text br2 placeHolderLi experience'] //span\")\n",
    "experience_tags"
   ]
  },
  {
   "cell_type": "code",
   "execution_count": 54,
   "id": "47d6e20a",
   "metadata": {},
   "outputs": [
    {
     "data": {
      "text/plain": [
       "['Kolkata, Hyderabad/Secunderabad, Chennai, Bangalore/Bengaluru, Delhi / NCR, Mumbai (All Areas)',\n",
       " 'Pune, Gurgaon/Gurugram, Bangalore/Bengaluru',\n",
       " 'Noida, New Delhi, Gurgaon/Gurugram, Delhi / NCR',\n",
       " 'Noida, Mumbai, Chandigarh, Hyderabad/Secunderabad, Pune, Chennai, Gurgaon/Gurugram, Coimbatore, Bangalore/Bengaluru',\n",
       " 'Bangalore/Bengaluru, Delhi / NCR, Mumbai (All Areas)',\n",
       " 'Noida',\n",
       " 'Noida',\n",
       " 'Bangalore/Bengaluru, Delhi / NCR, Mumbai (All Areas)',\n",
       " 'Chennai, Bangalore/Bengaluru, Delhi / NCR(Sector-8 Noida)',\n",
       " 'Noida, Pune, Ahmedabad']"
      ]
     },
     "execution_count": 54,
     "metadata": {},
     "output_type": "execute_result"
    }
   ],
   "source": [
    "for i in experience_tags:\n",
    "    experience=i.text\n",
    "    experience_years.append(experience)\n",
    "experience_years[0:10]    "
   ]
  },
  {
   "cell_type": "code",
   "execution_count": 69,
   "id": "71b1c017",
   "metadata": {},
   "outputs": [
    {
     "data": {
      "text/plain": [
       "[<selenium.webdriver.remote.webelement.WebElement (session=\"ca0978d3a52e21adc18d984d64906f50\", element=\"2311f554-b6d4-429c-a6bf-20012f591d25\")>,\n",
       " <selenium.webdriver.remote.webelement.WebElement (session=\"ca0978d3a52e21adc18d984d64906f50\", element=\"ebe31937-a42d-4d84-92e7-8175df50916c\")>,\n",
       " <selenium.webdriver.remote.webelement.WebElement (session=\"ca0978d3a52e21adc18d984d64906f50\", element=\"fcfb3c85-b7bf-407c-9521-e9fc5ec1093c\")>,\n",
       " <selenium.webdriver.remote.webelement.WebElement (session=\"ca0978d3a52e21adc18d984d64906f50\", element=\"c715c342-9d4a-4f4a-bb46-787537640c99\")>,\n",
       " <selenium.webdriver.remote.webelement.WebElement (session=\"ca0978d3a52e21adc18d984d64906f50\", element=\"9fbf0249-2270-4db9-9cd8-059f8ce8dea2\")>,\n",
       " <selenium.webdriver.remote.webelement.WebElement (session=\"ca0978d3a52e21adc18d984d64906f50\", element=\"d2c15bed-4aed-4119-8967-bf7e1ef294f6\")>,\n",
       " <selenium.webdriver.remote.webelement.WebElement (session=\"ca0978d3a52e21adc18d984d64906f50\", element=\"41f7cc18-79ea-40e5-a612-50c3e60aab88\")>,\n",
       " <selenium.webdriver.remote.webelement.WebElement (session=\"ca0978d3a52e21adc18d984d64906f50\", element=\"030f1a0f-5481-4a4c-b090-2af4579de66e\")>,\n",
       " <selenium.webdriver.remote.webelement.WebElement (session=\"ca0978d3a52e21adc18d984d64906f50\", element=\"70655bac-f9a6-4c44-ae58-1cf61bb48592\")>,\n",
       " <selenium.webdriver.remote.webelement.WebElement (session=\"ca0978d3a52e21adc18d984d64906f50\", element=\"95859c0b-5dab-4130-9da3-3c55ba73c008\")>]"
      ]
     },
     "execution_count": 69,
     "metadata": {},
     "output_type": "execute_result"
    }
   ],
   "source": [
    "#extracting all tags having salary title\n",
    "salary_tags=driver.find_elements_by_xpath(\"//li[@ class='fleft grey-text br2 placeHolderLi salary']/span[1] \")\n",
    "salary_tags[0:10]"
   ]
  },
  {
   "cell_type": "code",
   "execution_count": 70,
   "id": "ee8b9865",
   "metadata": {},
   "outputs": [
    {
     "data": {
      "text/plain": [
       "['4,00,000 - 6,00,000 PA.',\n",
       " 'Not disclosed',\n",
       " 'Not disclosed',\n",
       " 'Not disclosed',\n",
       " 'Not disclosed',\n",
       " 'Not disclosed',\n",
       " 'Not disclosed',\n",
       " 'Not disclosed',\n",
       " '3,50,000 - 5,00,000 PA.',\n",
       " '4,00,000 - 9,00,000 PA.']"
      ]
     },
     "execution_count": 70,
     "metadata": {},
     "output_type": "execute_result"
    }
   ],
   "source": [
    "for i in salary_tags:\n",
    "    salary=i.text\n",
    "    salary_drawn.append(salary)\n",
    "salary_drawn[0:10]    "
   ]
  },
  {
   "cell_type": "code",
   "execution_count": 78,
   "id": "5ddfeeeb",
   "metadata": {},
   "outputs": [
    {
     "name": "stdout",
     "output_type": "stream",
     "text": [
      "20 20 123 260 140\n"
     ]
    }
   ],
   "source": [
    "print(len(job_titles),len(company_name),len(location_name),len(experience_years),len(salary_drawn))"
   ]
  },
  {
   "cell_type": "code",
   "execution_count": 79,
   "id": "dda272ae",
   "metadata": {},
   "outputs": [],
   "source": [
    "df=pd.DataFrame({\"job_title\":job_titles[0:10],\"company_name\":company_name[0:10],\"job_location\":location_name[0:10],\n",
    "\n",
    "                \"experience\":experience_years[0:10],\"salary\":salary_drawn[0:10]})"
   ]
  },
  {
   "cell_type": "code",
   "execution_count": 81,
   "id": "530f5980",
   "metadata": {},
   "outputs": [
    {
     "data": {
      "text/html": [
       "<div>\n",
       "<style scoped>\n",
       "    .dataframe tbody tr th:only-of-type {\n",
       "        vertical-align: middle;\n",
       "    }\n",
       "\n",
       "    .dataframe tbody tr th {\n",
       "        vertical-align: top;\n",
       "    }\n",
       "\n",
       "    .dataframe thead th {\n",
       "        text-align: right;\n",
       "    }\n",
       "</style>\n",
       "<table border=\"1\" class=\"dataframe\">\n",
       "  <thead>\n",
       "    <tr style=\"text-align: right;\">\n",
       "      <th></th>\n",
       "      <th>job_title</th>\n",
       "      <th>company_name</th>\n",
       "      <th>job_location</th>\n",
       "      <th>experience</th>\n",
       "      <th>salary</th>\n",
       "    </tr>\n",
       "  </thead>\n",
       "  <tbody>\n",
       "    <tr>\n",
       "      <th>0</th>\n",
       "      <td>Job Opening with Wipro For Data Scientist posi...</td>\n",
       "      <td>Wipro</td>\n",
       "      <td>Kolkata, Hyderabad/Secunderabad, Chennai, Bang...</td>\n",
       "      <td>Kolkata, Hyderabad/Secunderabad, Chennai, Bang...</td>\n",
       "      <td>4,00,000 - 6,00,000 PA.</td>\n",
       "    </tr>\n",
       "    <tr>\n",
       "      <th>1</th>\n",
       "      <td>Data Scientist</td>\n",
       "      <td>SS Supply Chain Solutions Pvt. Ltd. (3SC)</td>\n",
       "      <td>Pune, Gurgaon/Gurugram, Bangalore/Bengaluru</td>\n",
       "      <td>Pune, Gurgaon/Gurugram, Bangalore/Bengaluru</td>\n",
       "      <td>Not disclosed</td>\n",
       "    </tr>\n",
       "    <tr>\n",
       "      <th>2</th>\n",
       "      <td>Data Scientist -Machine Learning with Python</td>\n",
       "      <td>Genpact</td>\n",
       "      <td>Noida, New Delhi, Gurgaon/Gurugram, Delhi / NCR</td>\n",
       "      <td>Noida, New Delhi, Gurgaon/Gurugram, Delhi / NCR</td>\n",
       "      <td>Not disclosed</td>\n",
       "    </tr>\n",
       "    <tr>\n",
       "      <th>3</th>\n",
       "      <td>Data Scientist - Predictive Analytics</td>\n",
       "      <td>Confidential</td>\n",
       "      <td>Noida, Mumbai, Chandigarh, Hyderabad/Secundera...</td>\n",
       "      <td>Noida, Mumbai, Chandigarh, Hyderabad/Secundera...</td>\n",
       "      <td>Not disclosed</td>\n",
       "    </tr>\n",
       "    <tr>\n",
       "      <th>4</th>\n",
       "      <td>Data Scientist - Machine learning AI</td>\n",
       "      <td>Teq Analytics</td>\n",
       "      <td>Bangalore/Bengaluru, Delhi / NCR, Mumbai (All ...</td>\n",
       "      <td>Bangalore/Bengaluru, Delhi / NCR, Mumbai (All ...</td>\n",
       "      <td>Not disclosed</td>\n",
       "    </tr>\n",
       "  </tbody>\n",
       "</table>\n",
       "</div>"
      ],
      "text/plain": [
       "                                           job_title  \\\n",
       "0  Job Opening with Wipro For Data Scientist posi...   \n",
       "1                                     Data Scientist   \n",
       "2       Data Scientist -Machine Learning with Python   \n",
       "3              Data Scientist - Predictive Analytics   \n",
       "4               Data Scientist - Machine learning AI   \n",
       "\n",
       "                                company_name  \\\n",
       "0                                      Wipro   \n",
       "1  SS Supply Chain Solutions Pvt. Ltd. (3SC)   \n",
       "2                                    Genpact   \n",
       "3                               Confidential   \n",
       "4                              Teq Analytics   \n",
       "\n",
       "                                        job_location  \\\n",
       "0  Kolkata, Hyderabad/Secunderabad, Chennai, Bang...   \n",
       "1        Pune, Gurgaon/Gurugram, Bangalore/Bengaluru   \n",
       "2    Noida, New Delhi, Gurgaon/Gurugram, Delhi / NCR   \n",
       "3  Noida, Mumbai, Chandigarh, Hyderabad/Secundera...   \n",
       "4  Bangalore/Bengaluru, Delhi / NCR, Mumbai (All ...   \n",
       "\n",
       "                                          experience                   salary  \n",
       "0  Kolkata, Hyderabad/Secunderabad, Chennai, Bang...  4,00,000 - 6,00,000 PA.  \n",
       "1        Pune, Gurgaon/Gurugram, Bangalore/Bengaluru            Not disclosed  \n",
       "2    Noida, New Delhi, Gurgaon/Gurugram, Delhi / NCR            Not disclosed  \n",
       "3  Noida, Mumbai, Chandigarh, Hyderabad/Secundera...            Not disclosed  \n",
       "4  Bangalore/Bengaluru, Delhi / NCR, Mumbai (All ...            Not disclosed  "
      ]
     },
     "execution_count": 81,
     "metadata": {},
     "output_type": "execute_result"
    }
   ],
   "source": [
    "df.head()"
   ]
  },
  {
   "cell_type": "code",
   "execution_count": null,
   "id": "f8b5f492",
   "metadata": {},
   "outputs": [],
   "source": [
    "#4-Q4: Scrape data of first 100 sunglasses listings on flipkart.com. You have to scrape four attributes: 1. Brand 2. Product Description 3. Price The "
   ]
  },
  {
   "cell_type": "code",
   "execution_count": 8,
   "id": "2b9950b3",
   "metadata": {},
   "outputs": [],
   "source": [
    "from selenium import webdriver\n",
    "import pandas as pd\n",
    "import selenium\n",
    "import numpy as np\n",
    "import time\n",
    "from bs4 import BeautifulSoup\n",
    "import warnings\n",
    "warnings.filterwarnings('ignore')"
   ]
  },
  {
   "cell_type": "code",
   "execution_count": 2,
   "id": "919a561c",
   "metadata": {},
   "outputs": [],
   "source": [
    "driver=webdriver.Chrome(r'C:\\Users\\sandeep\\.jupyter\\webdrv\\chromedriver')"
   ]
  },
  {
   "cell_type": "code",
   "execution_count": 3,
   "id": "2aefc792",
   "metadata": {},
   "outputs": [],
   "source": [
    "driver = webdriver.Chrome(r'C:\\Users\\sandeep\\.jupyter\\webdrv\\chromedriver')  # Optional argument, if not specified will search path.\n",
    "driver.get(' https://www.flipkart.com/ ');\n",
    "time.sleep(5)"
   ]
  },
  {
   "cell_type": "code",
   "execution_count": 4,
   "id": "280e5e55",
   "metadata": {},
   "outputs": [],
   "source": [
    "#finding element for job search bar\n",
    "bar=driver.find_element_by_xpath(\"/html/body/div[1]/div/div[1]/div[1]/div[2]/div[2]/form/div/div/input \")\n",
    "bar.send_keys(\"sunglasses\")\n"
   ]
  },
  {
   "cell_type": "code",
   "execution_count": 22,
   "id": "9512ce66",
   "metadata": {},
   "outputs": [
    {
     "data": {
      "text/plain": [
       "<selenium.webdriver.remote.webelement.WebElement (session=\"7dad78e8197243ba1a0befaaa7360498\", element=\"fb1bec07-6499-45bf-8303-0c9b60482efc\")>"
      ]
     },
     "execution_count": 22,
     "metadata": {},
     "output_type": "execute_result"
    }
   ],
   "source": [
    "search_btn=driver.find_element_by_xpath(\"//button[@class='L0Z3Pu']\")\n",
    "search_btn"
   ]
  },
  {
   "cell_type": "code",
   "execution_count": 23,
   "id": "ac1ea70a",
   "metadata": {},
   "outputs": [],
   "source": [
    " B_name=[]\n",
    "Price=[]\n",
    "P_desc=[]\n",
    "Discount=[]"
   ]
  },
  {
   "cell_type": "code",
   "execution_count": 25,
   "id": "13851006",
   "metadata": {},
   "outputs": [],
   "source": [
    "for i in range(3):\n",
    "    b_name=driver.find_elements_by_xpath(\"//div[@class='_2WkVRV']\")\n",
    "    p_desc=driver.find_elements_by_xpath(\"//a[@class='IRpwTa']\")\n",
    "    price =driver.find_elements_by_xpath(\"//div[@class='_25b18c']\")\n",
    "    discount=driver.find_elements_by_xpath(\"//div[@class='_3Ay6Sb']\")\n",
    "    \n",
    "    for j  in b_name:\n",
    "        B_name.append(j.text)\n",
    "    B_name[:100]    \n",
    "    \n",
    "    \n",
    "    \n",
    "    for k in p_desc:\n",
    "        P_desc.append(k.text)\n",
    "    P_desc[:100] \n",
    "    \n",
    "    \n",
    "    for l in price:\n",
    "        Price.append(l.text)\n",
    "    Price[:100] \n",
    "    \n",
    "    \n",
    "    for t in discount:\n",
    "        Discount.append(t.text)\n",
    "    Discount[:100]"
   ]
  },
  {
   "cell_type": "code",
   "execution_count": 26,
   "id": "e60dcde3",
   "metadata": {},
   "outputs": [
    {
     "data": {
      "text/plain": [
       "['Mi',\n",
       " 'Fastrack',\n",
       " 'Mi',\n",
       " 'SRPM',\n",
       " 'Fastrack',\n",
       " 'Elligator',\n",
       " 'United Colors of Benetton',\n",
       " 'PIRASO',\n",
       " 'New Specs',\n",
       " 'PIRASO',\n",
       " 'ROZZETTA CRAFT',\n",
       " 'PIRASO',\n",
       " 'PIRASO',\n",
       " 'Fastrack',\n",
       " 'Mi',\n",
       " 'United Colors of Benetton',\n",
       " 'SUNBEE',\n",
       " 'Lee Topper',\n",
       " 'PIRASO',\n",
       " 'ROZZETTA CRAFT',\n",
       " 'Fastrack',\n",
       " 'Ray-Ban',\n",
       " 'United Colors of Benetton',\n",
       " 'ROYAL SON',\n",
       " 'VINCENT CHASE',\n",
       " 'PIRASO',\n",
       " 'ROZZETTA CRAFT',\n",
       " 'ROZZETTA CRAFT',\n",
       " 'SHAAH COLLECTIONS',\n",
       " 'New Specs',\n",
       " 'SUNBEE',\n",
       " 'SHAAH COLLECTIONS',\n",
       " 'AISLIN',\n",
       " 'Fastrack',\n",
       " 'Fastrack',\n",
       " 'PIRASO',\n",
       " 'Fastrack',\n",
       " 'kingsunglasses',\n",
       " 'Fastrack',\n",
       " 'SRPM',\n",
       " 'Mi',\n",
       " 'Fastrack',\n",
       " 'Mi',\n",
       " 'SRPM',\n",
       " 'Fastrack',\n",
       " 'Elligator',\n",
       " 'United Colors of Benetton',\n",
       " 'PIRASO',\n",
       " 'New Specs',\n",
       " 'PIRASO',\n",
       " 'ROZZETTA CRAFT',\n",
       " 'PIRASO',\n",
       " 'PIRASO',\n",
       " 'Fastrack',\n",
       " 'Mi',\n",
       " 'United Colors of Benetton',\n",
       " 'SUNBEE',\n",
       " 'Lee Topper',\n",
       " 'PIRASO',\n",
       " 'ROZZETTA CRAFT',\n",
       " 'Fastrack',\n",
       " 'Ray-Ban',\n",
       " 'United Colors of Benetton',\n",
       " 'ROYAL SON',\n",
       " 'VINCENT CHASE',\n",
       " 'PIRASO',\n",
       " 'ROZZETTA CRAFT',\n",
       " 'ROZZETTA CRAFT',\n",
       " 'SHAAH COLLECTIONS',\n",
       " 'New Specs',\n",
       " 'SUNBEE',\n",
       " 'SHAAH COLLECTIONS',\n",
       " 'AISLIN',\n",
       " 'Fastrack',\n",
       " 'Fastrack',\n",
       " 'PIRASO',\n",
       " 'Fastrack',\n",
       " 'kingsunglasses',\n",
       " 'Fastrack',\n",
       " 'SRPM',\n",
       " 'Mi',\n",
       " 'Fastrack',\n",
       " 'Mi',\n",
       " 'SRPM',\n",
       " 'Fastrack',\n",
       " 'Elligator',\n",
       " 'United Colors of Benetton',\n",
       " 'PIRASO',\n",
       " 'New Specs',\n",
       " 'PIRASO',\n",
       " 'ROZZETTA CRAFT',\n",
       " 'PIRASO',\n",
       " 'PIRASO',\n",
       " 'Fastrack',\n",
       " 'Mi',\n",
       " 'United Colors of Benetton',\n",
       " 'SUNBEE',\n",
       " 'Lee Topper',\n",
       " 'PIRASO',\n",
       " 'ROZZETTA CRAFT']"
      ]
     },
     "execution_count": 26,
     "metadata": {},
     "output_type": "execute_result"
    }
   ],
   "source": [
    "B_name[:100]"
   ]
  },
  {
   "cell_type": "code",
   "execution_count": 27,
   "id": "bb422dbd",
   "metadata": {},
   "outputs": [
    {
     "name": "stdout",
     "output_type": "stream",
     "text": [
      "100\n",
      "100\n",
      "100\n",
      "100\n"
     ]
    },
    {
     "data": {
      "text/plain": [
       "(None, None, None, None)"
      ]
     },
     "execution_count": 27,
     "metadata": {},
     "output_type": "execute_result"
    }
   ],
   "source": [
    "print(len(B_name[:100])),print(len(Price[:100])),print(len(P_desc[:100])),print(len(Discount[:100]))"
   ]
  },
  {
   "cell_type": "code",
   "execution_count": 28,
   "id": "5c609f32",
   "metadata": {},
   "outputs": [],
   "source": [
    "sun_gl=pd.DataFrame({})\n",
    "sun_gl['Brand_name']=B_name[:100]\n",
    "sun_gl['P_price']=Price[:100]\n",
    "sun_gl['Pr_desc']=P_desc[:100]\n",
    "sun_gl['P_discount']=Discount[:100]"
   ]
  },
  {
   "cell_type": "code",
   "execution_count": 29,
   "id": "23be778b",
   "metadata": {},
   "outputs": [
    {
     "data": {
      "text/html": [
       "<div>\n",
       "<style scoped>\n",
       "    .dataframe tbody tr th:only-of-type {\n",
       "        vertical-align: middle;\n",
       "    }\n",
       "\n",
       "    .dataframe tbody tr th {\n",
       "        vertical-align: top;\n",
       "    }\n",
       "\n",
       "    .dataframe thead th {\n",
       "        text-align: right;\n",
       "    }\n",
       "</style>\n",
       "<table border=\"1\" class=\"dataframe\">\n",
       "  <thead>\n",
       "    <tr style=\"text-align: right;\">\n",
       "      <th></th>\n",
       "      <th>Brand_name</th>\n",
       "      <th>P_price</th>\n",
       "      <th>Pr_desc</th>\n",
       "      <th>P_discount</th>\n",
       "    </tr>\n",
       "  </thead>\n",
       "  <tbody>\n",
       "    <tr>\n",
       "      <th>0</th>\n",
       "      <td>Mi</td>\n",
       "      <td>₹649₹1,19945% off</td>\n",
       "      <td>Polarized Aviator Sunglasses (Free Size)</td>\n",
       "      <td>45% off</td>\n",
       "    </tr>\n",
       "    <tr>\n",
       "      <th>1</th>\n",
       "      <td>Fastrack</td>\n",
       "      <td>₹639₹79920% off</td>\n",
       "      <td>UV Protection Rectangular Sunglasses (Free Size)</td>\n",
       "      <td>20% off</td>\n",
       "    </tr>\n",
       "    <tr>\n",
       "      <th>2</th>\n",
       "      <td>Mi</td>\n",
       "      <td>₹649₹1,19945% off</td>\n",
       "      <td>Polarized Aviator Sunglasses (Free Size)</td>\n",
       "      <td>45% off</td>\n",
       "    </tr>\n",
       "    <tr>\n",
       "      <th>3</th>\n",
       "      <td>SRPM</td>\n",
       "      <td>₹199₹1,29984% off</td>\n",
       "      <td>UV Protection Wayfarer Sunglasses (50)</td>\n",
       "      <td>84% off</td>\n",
       "    </tr>\n",
       "    <tr>\n",
       "      <th>4</th>\n",
       "      <td>Fastrack</td>\n",
       "      <td>₹699₹99930% off</td>\n",
       "      <td>UV Protection Wayfarer Sunglasses (Free Size)</td>\n",
       "      <td>30% off</td>\n",
       "    </tr>\n",
       "    <tr>\n",
       "      <th>...</th>\n",
       "      <td>...</td>\n",
       "      <td>...</td>\n",
       "      <td>...</td>\n",
       "      <td>...</td>\n",
       "    </tr>\n",
       "    <tr>\n",
       "      <th>95</th>\n",
       "      <td>United Colors of Benetton</td>\n",
       "      <td>₹280₹2,49588% off</td>\n",
       "      <td>Gradient Cat-eye Sunglasses (57)</td>\n",
       "      <td>81% off</td>\n",
       "    </tr>\n",
       "    <tr>\n",
       "      <th>96</th>\n",
       "      <td>SUNBEE</td>\n",
       "      <td>₹669₹3,70081% off</td>\n",
       "      <td>UV Protection, Polarized Wayfarer Sunglasses (...</td>\n",
       "      <td>78% off</td>\n",
       "    </tr>\n",
       "    <tr>\n",
       "      <th>97</th>\n",
       "      <td>Lee Topper</td>\n",
       "      <td>₹199₹1,59987% off</td>\n",
       "      <td>Riding Glasses Wrap-around Sunglasses (Free Size)</td>\n",
       "      <td>88% off</td>\n",
       "    </tr>\n",
       "    <tr>\n",
       "      <th>98</th>\n",
       "      <td>PIRASO</td>\n",
       "      <td>₹264₹2,59989% off</td>\n",
       "      <td>UV Protection Rectangular Sunglasses (52)</td>\n",
       "      <td>89% off</td>\n",
       "    </tr>\n",
       "    <tr>\n",
       "      <th>99</th>\n",
       "      <td>ROZZETTA CRAFT</td>\n",
       "      <td>₹319₹2,59987% off</td>\n",
       "      <td>UV Protection Retro Square Sunglasses (Free Size)</td>\n",
       "      <td>79% off</td>\n",
       "    </tr>\n",
       "  </tbody>\n",
       "</table>\n",
       "<p>100 rows × 4 columns</p>\n",
       "</div>"
      ],
      "text/plain": [
       "                   Brand_name            P_price  \\\n",
       "0                          Mi  ₹649₹1,19945% off   \n",
       "1                    Fastrack    ₹639₹79920% off   \n",
       "2                          Mi  ₹649₹1,19945% off   \n",
       "3                        SRPM  ₹199₹1,29984% off   \n",
       "4                    Fastrack    ₹699₹99930% off   \n",
       "..                        ...                ...   \n",
       "95  United Colors of Benetton  ₹280₹2,49588% off   \n",
       "96                     SUNBEE  ₹669₹3,70081% off   \n",
       "97                 Lee Topper  ₹199₹1,59987% off   \n",
       "98                     PIRASO  ₹264₹2,59989% off   \n",
       "99             ROZZETTA CRAFT  ₹319₹2,59987% off   \n",
       "\n",
       "                                              Pr_desc P_discount  \n",
       "0            Polarized Aviator Sunglasses (Free Size)    45% off  \n",
       "1    UV Protection Rectangular Sunglasses (Free Size)    20% off  \n",
       "2            Polarized Aviator Sunglasses (Free Size)    45% off  \n",
       "3              UV Protection Wayfarer Sunglasses (50)    84% off  \n",
       "4       UV Protection Wayfarer Sunglasses (Free Size)    30% off  \n",
       "..                                                ...        ...  \n",
       "95                   Gradient Cat-eye Sunglasses (57)    81% off  \n",
       "96  UV Protection, Polarized Wayfarer Sunglasses (...    78% off  \n",
       "97  Riding Glasses Wrap-around Sunglasses (Free Size)    88% off  \n",
       "98          UV Protection Rectangular Sunglasses (52)    89% off  \n",
       "99  UV Protection Retro Square Sunglasses (Free Size)    79% off  \n",
       "\n",
       "[100 rows x 4 columns]"
      ]
     },
     "execution_count": 29,
     "metadata": {},
     "output_type": "execute_result"
    }
   ],
   "source": [
    "sun_gl"
   ]
  },
  {
   "cell_type": "code",
   "execution_count": null,
   "id": "8642c1a6",
   "metadata": {},
   "outputs": [],
   "source": [
    "#Q5: Scrape 100 reviews data from flipkart.com for iphone11 phone"
   ]
  },
  {
   "cell_type": "code",
   "execution_count": 100,
   "id": "128820f6",
   "metadata": {},
   "outputs": [],
   "source": [
    "from selenium import webdriver\n",
    "import pandas as pd\n",
    "import selenium\n",
    "import numpy as np\n",
    "import time\n",
    "from bs4 import BeautifulSoup\n",
    "import warnings\n",
    "warnings.filterwarnings('ignore')"
   ]
  },
  {
   "cell_type": "code",
   "execution_count": 107,
   "id": "8a987b85",
   "metadata": {},
   "outputs": [],
   "source": [
    "driver=webdriver.Chrome(r'C:\\Users\\sandeep\\.jupyter\\webdrv\\chromedriver')"
   ]
  },
  {
   "cell_type": "code",
   "execution_count": 108,
   "id": "780baed3",
   "metadata": {},
   "outputs": [],
   "source": [
    "driver = webdriver.Chrome(r'C:\\Users\\sandeep\\.jupyter\\webdrv\\chromedriver')  # Optional argument, if not specified will search path.\n",
    "driver.get(' https://www.flipkart.com/apple-iphone-11-black-64-gb-includes-earpods-power-adapter/p/itm0f37c2240b217?pid=MOBFKCTSVZAXUHGR&lid=LSTMOBFKCTSVZAXUHGR ');\n",
    "time.sleep(5)"
   ]
  },
  {
   "cell_type": "code",
   "execution_count": 112,
   "id": "579b4b8d",
   "metadata": {},
   "outputs": [],
   "source": [
    "driver.find_element_by_xpath(\"//div[@class='_3UAT2v _16PBlm']\").click()"
   ]
  },
  {
   "cell_type": "code",
   "execution_count": null,
   "id": "b283f447",
   "metadata": {},
   "outputs": [],
   "source": [
    " \n",
    "rating=[]\n",
    "review=[]\n",
    "full=[]\n",
    "page_tag=driver.find_elements_by_xpath('//nav[@class=\"yFHi8N\"]//a')\n",
    "page=[]\n",
    "pagee=0\n",
    "for i in page_tag:\n",
    "    page.append(i.get_attribute('href'))\n",
    "while len(full)<101:\n",
    "    driver.get(page[pagee])\n",
    "    tag=driver.find_elements_by_xpath(\"//div[@class='col _2wzgFH K0kLPL']\")\n",
    "    for i in tag:\n",
    "        rating.append(i.text.split('\\n')[0])\n",
    "        review.append(i.text.split('\\n')[1])\n",
    "        full.append(i.text.split('\\n')[2])\n",
    "    pagee+=1"
   ]
  },
  {
   "cell_type": "code",
   "execution_count": 116,
   "id": "1748fa37",
   "metadata": {},
   "outputs": [
    {
     "data": {
      "text/html": [
       "<div>\n",
       "<style scoped>\n",
       "    .dataframe tbody tr th:only-of-type {\n",
       "        vertical-align: middle;\n",
       "    }\n",
       "\n",
       "    .dataframe tbody tr th {\n",
       "        vertical-align: top;\n",
       "    }\n",
       "\n",
       "    .dataframe thead th {\n",
       "        text-align: right;\n",
       "    }\n",
       "</style>\n",
       "<table border=\"1\" class=\"dataframe\">\n",
       "  <thead>\n",
       "    <tr style=\"text-align: right;\">\n",
       "      <th></th>\n",
       "      <th>rating</th>\n",
       "      <th>review</th>\n",
       "      <th>full review</th>\n",
       "    </tr>\n",
       "  </thead>\n",
       "  <tbody>\n",
       "    <tr>\n",
       "      <th>0</th>\n",
       "      <td>5</td>\n",
       "      <td>Simply awesome</td>\n",
       "      <td>Really satisfied with the Product I received.....</td>\n",
       "    </tr>\n",
       "    <tr>\n",
       "      <th>1</th>\n",
       "      <td>5</td>\n",
       "      <td>Best in the market!</td>\n",
       "      <td>Great iPhone very snappy experience as apple k...</td>\n",
       "    </tr>\n",
       "    <tr>\n",
       "      <th>2</th>\n",
       "      <td>5</td>\n",
       "      <td>Perfect product!</td>\n",
       "      <td>Amazing phone with great cameras and better ba...</td>\n",
       "    </tr>\n",
       "    <tr>\n",
       "      <th>3</th>\n",
       "      <td>5</td>\n",
       "      <td>Worth every penny</td>\n",
       "      <td>Previously I was using one plus 3t it was a gr...</td>\n",
       "    </tr>\n",
       "    <tr>\n",
       "      <th>4</th>\n",
       "      <td>5</td>\n",
       "      <td>Highly recommended</td>\n",
       "      <td>What a camera .....just awesome ..you can feel...</td>\n",
       "    </tr>\n",
       "    <tr>\n",
       "      <th>...</th>\n",
       "      <td>...</td>\n",
       "      <td>...</td>\n",
       "      <td>...</td>\n",
       "    </tr>\n",
       "    <tr>\n",
       "      <th>95</th>\n",
       "      <td>5</td>\n",
       "      <td>Excellent</td>\n",
       "      <td>Just go for it.</td>\n",
       "    </tr>\n",
       "    <tr>\n",
       "      <th>96</th>\n",
       "      <td>5</td>\n",
       "      <td>Super!</td>\n",
       "      <td>This is my first ever iPhone.</td>\n",
       "    </tr>\n",
       "    <tr>\n",
       "      <th>97</th>\n",
       "      <td>5</td>\n",
       "      <td>Wonderful</td>\n",
       "      <td>Nice value for money good and best price I pho...</td>\n",
       "    </tr>\n",
       "    <tr>\n",
       "      <th>98</th>\n",
       "      <td>5</td>\n",
       "      <td>Worth every penny</td>\n",
       "      <td>Undoubtedly Iphone 11 is the most successful m...</td>\n",
       "    </tr>\n",
       "    <tr>\n",
       "      <th>99</th>\n",
       "      <td>5</td>\n",
       "      <td>Best in the market!</td>\n",
       "      <td>Don’t expect much from front camera… especiall...</td>\n",
       "    </tr>\n",
       "  </tbody>\n",
       "</table>\n",
       "<p>100 rows × 3 columns</p>\n",
       "</div>"
      ],
      "text/plain": [
       "   rating               review  \\\n",
       "0       5       Simply awesome   \n",
       "1       5  Best in the market!   \n",
       "2       5     Perfect product!   \n",
       "3       5    Worth every penny   \n",
       "4       5   Highly recommended   \n",
       "..    ...                  ...   \n",
       "95      5            Excellent   \n",
       "96      5               Super!   \n",
       "97      5            Wonderful   \n",
       "98      5    Worth every penny   \n",
       "99      5  Best in the market!   \n",
       "\n",
       "                                          full review  \n",
       "0   Really satisfied with the Product I received.....  \n",
       "1   Great iPhone very snappy experience as apple k...  \n",
       "2   Amazing phone with great cameras and better ba...  \n",
       "3   Previously I was using one plus 3t it was a gr...  \n",
       "4   What a camera .....just awesome ..you can feel...  \n",
       "..                                                ...  \n",
       "95                                    Just go for it.  \n",
       "96                      This is my first ever iPhone.  \n",
       "97  Nice value for money good and best price I pho...  \n",
       "98  Undoubtedly Iphone 11 is the most successful m...  \n",
       "99  Don’t expect much from front camera… especiall...  \n",
       "\n",
       "[100 rows x 3 columns]"
      ]
     },
     "execution_count": 116,
     "metadata": {},
     "output_type": "execute_result"
    }
   ],
   "source": [
    "dataframe=pd.DataFrame()\n",
    "dataframe['rating']=rating[:100]\n",
    "dataframe['review']=review[:100]\n",
    "dataframe['full review']=full[:100]\n",
    "dataframe"
   ]
  },
  {
   "cell_type": "code",
   "execution_count": 30,
   "id": "27411828",
   "metadata": {},
   "outputs": [],
   "source": [
    "#Q6: Scrape data for first 100 sneakers you find when you visit flipkart.com and search for “sneakers” in the search field. You have to scrape 4 attributes of each sneaker: \n",
    " #       1. Brand 2. Product Description 3. Price "
   ]
  },
  {
   "cell_type": "code",
   "execution_count": 81,
   "id": "3083c8b4",
   "metadata": {},
   "outputs": [],
   "source": [
    "from selenium import webdriver\n",
    "import pandas as pd\n",
    "import selenium\n",
    "import numpy as np\n",
    "import time\n",
    "from bs4 import BeautifulSoup\n",
    "import warnings\n",
    "warnings.filterwarnings('ignore')"
   ]
  },
  {
   "cell_type": "code",
   "execution_count": 82,
   "id": "e9be1bf6",
   "metadata": {},
   "outputs": [],
   "source": [
    "driver=webdriver.Chrome(r'C:\\Users\\sandeep\\.jupyter\\webdrv\\chromedriver')"
   ]
  },
  {
   "cell_type": "code",
   "execution_count": 83,
   "id": "cea29728",
   "metadata": {},
   "outputs": [],
   "source": [
    "driver = webdriver.Chrome(r'C:\\Users\\sandeep\\.jupyter\\webdrv\\chromedriver')  # Optional argument, if not specified will search path.\n",
    "driver.get(' https://www.flipkart.com/ ');\n",
    "time.sleep(5)"
   ]
  },
  {
   "cell_type": "code",
   "execution_count": 84,
   "id": "984b1892",
   "metadata": {},
   "outputs": [
    {
     "data": {
      "text/plain": [
       "<selenium.webdriver.remote.webelement.WebElement (session=\"663eb74cbfefc4f1b093da3cb7f310f4\", element=\"ffca2d47-e60a-49c3-b0bb-e9e286748e55\")>"
      ]
     },
     "execution_count": 84,
     "metadata": {},
     "output_type": "execute_result"
    }
   ],
   "source": [
    "# finding element for job search bar\n",
    "search_g= driver.find_element_by_xpath(\"//input[@type='text']\")\n",
    "search_g"
   ]
  },
  {
   "cell_type": "code",
   "execution_count": 85,
   "id": "513062e3",
   "metadata": {},
   "outputs": [],
   "source": [
    "search_g.send_keys('sneakers')"
   ]
  },
  {
   "cell_type": "code",
   "execution_count": 86,
   "id": "7d00c0ea",
   "metadata": {},
   "outputs": [
    {
     "data": {
      "text/plain": [
       "<selenium.webdriver.remote.webelement.WebElement (session=\"663eb74cbfefc4f1b093da3cb7f310f4\", element=\"f0d57150-2ca3-420e-9cc8-a3d9ac21df35\")>"
      ]
     },
     "execution_count": 86,
     "metadata": {},
     "output_type": "execute_result"
    }
   ],
   "source": [
    "search_btn=driver.find_element_by_xpath(\"//button[@ class='L0Z3Pu']\")\n",
    "search_btn"
   ]
  },
  {
   "cell_type": "code",
   "execution_count": 87,
   "id": "b1c68882",
   "metadata": {},
   "outputs": [],
   "source": [
    "B_name=[]\n",
    "Price=[]\n",
    "P_desc=[]\n",
    "Discount=[]"
   ]
  },
  {
   "cell_type": "code",
   "execution_count": 88,
   "id": "959b377a",
   "metadata": {},
   "outputs": [],
   "source": [
    "for i in range(3):\n",
    "    b_name=driver.find_elements_by_xpath(\"//div[@class='_2WkVRV']\")\n",
    "    p_desc=driver.find_elements_by_xpath(\"//a[@class='IRpwTa']\")\n",
    "    price =driver.find_elements_by_xpath(\"//div[@class='_25b18c']\")\n",
    "    discount=driver.find_elements_by_xpath(\"//div[@class='_3Ay6Sb']\")\n",
    "    \n",
    "    for j  in b_name:\n",
    "        B_name.append(j.text)\n",
    "    B_name[:100]    \n",
    "    \n",
    "    \n",
    "    \n",
    "    for k in p_desc:\n",
    "        P_desc.append(k.text)\n",
    "    P_desc[:100] \n",
    "    \n",
    "    \n",
    "    for l in price:\n",
    "        Price.append(l.text)\n",
    "    Price[:100] \n",
    "    \n",
    "    \n",
    "    for t in discount:\n",
    "        Discount.append(t.text)\n",
    "    Discount[:100]"
   ]
  },
  {
   "cell_type": "code",
   "execution_count": 90,
   "id": "e04e63a6",
   "metadata": {},
   "outputs": [
    {
     "name": "stdout",
     "output_type": "stream",
     "text": [
      "100\n",
      "100\n",
      "100\n",
      "100\n"
     ]
    },
    {
     "data": {
      "text/plain": [
       "(None, None, None, None)"
      ]
     },
     "execution_count": 90,
     "metadata": {},
     "output_type": "execute_result"
    }
   ],
   "source": [
    "print(len(B_name[:100])),print(len(Price[:100])),print(len(P_desc[:100])),print(len(Discount[:100]))"
   ]
  },
  {
   "cell_type": "code",
   "execution_count": 91,
   "id": "8730008e",
   "metadata": {},
   "outputs": [],
   "source": [
    "sn=pd.DataFrame({})\n",
    "sn['Brand_name']=B_name[:100]\n",
    "sn['P_price']=Price[:100]\n",
    "sn['Pr_desc']=P_desc[:100]\n",
    "sn['P_discount']=Discount[:100]"
   ]
  },
  {
   "cell_type": "code",
   "execution_count": 92,
   "id": "5a14cb81",
   "metadata": {},
   "outputs": [
    {
     "data": {
      "text/html": [
       "<div>\n",
       "<style scoped>\n",
       "    .dataframe tbody tr th:only-of-type {\n",
       "        vertical-align: middle;\n",
       "    }\n",
       "\n",
       "    .dataframe tbody tr th {\n",
       "        vertical-align: top;\n",
       "    }\n",
       "\n",
       "    .dataframe thead th {\n",
       "        text-align: right;\n",
       "    }\n",
       "</style>\n",
       "<table border=\"1\" class=\"dataframe\">\n",
       "  <thead>\n",
       "    <tr style=\"text-align: right;\">\n",
       "      <th></th>\n",
       "      <th>Brand_name</th>\n",
       "      <th>P_price</th>\n",
       "      <th>Pr_desc</th>\n",
       "      <th>P_discount</th>\n",
       "    </tr>\n",
       "  </thead>\n",
       "  <tbody>\n",
       "    <tr>\n",
       "      <th>0</th>\n",
       "      <td>Numenzo</td>\n",
       "      <td>₹474₹1,99976% off</td>\n",
       "      <td>411 Casual Sneakers For Men</td>\n",
       "      <td>76% off</td>\n",
       "    </tr>\n",
       "    <tr>\n",
       "      <th>1</th>\n",
       "      <td>LuvShus</td>\n",
       "      <td>₹599₹99940% off</td>\n",
       "      <td>Sneakers For Men</td>\n",
       "      <td>40% off</td>\n",
       "    </tr>\n",
       "    <tr>\n",
       "      <th>2</th>\n",
       "      <td>Layasa</td>\n",
       "      <td>₹399₹99960% off</td>\n",
       "      <td>Sneakers For Men</td>\n",
       "      <td>60% off</td>\n",
       "    </tr>\n",
       "    <tr>\n",
       "      <th>3</th>\n",
       "      <td>BRUTON</td>\n",
       "      <td>₹279₹1,29978% off</td>\n",
       "      <td>Modern Trendy Shoes Sneakers For Men</td>\n",
       "      <td>78% off</td>\n",
       "    </tr>\n",
       "    <tr>\n",
       "      <th>4</th>\n",
       "      <td>URBANBOX</td>\n",
       "      <td>₹198₹99980% off</td>\n",
       "      <td>Stylish Comfortable Lightweight, Breathable Wa...</td>\n",
       "      <td>80% off</td>\n",
       "    </tr>\n",
       "    <tr>\n",
       "      <th>...</th>\n",
       "      <td>...</td>\n",
       "      <td>...</td>\n",
       "      <td>...</td>\n",
       "      <td>...</td>\n",
       "    </tr>\n",
       "    <tr>\n",
       "      <th>95</th>\n",
       "      <td>Numenzo</td>\n",
       "      <td>₹299₹99970% off</td>\n",
       "      <td>STREET ICON M Sneakers For Men</td>\n",
       "      <td>81% off</td>\n",
       "    </tr>\n",
       "    <tr>\n",
       "      <th>96</th>\n",
       "      <td>Robbie jones</td>\n",
       "      <td>₹374₹99962% off</td>\n",
       "      <td>casual for men Sneakers For Men</td>\n",
       "      <td>60% off</td>\n",
       "    </tr>\n",
       "    <tr>\n",
       "      <th>97</th>\n",
       "      <td>Kraasa</td>\n",
       "      <td>₹549₹1,29957% off</td>\n",
       "      <td>Sneakers For Men</td>\n",
       "      <td>58% off</td>\n",
       "    </tr>\n",
       "    <tr>\n",
       "      <th>98</th>\n",
       "      <td>PUMA</td>\n",
       "      <td>₹283₹1,29978% off</td>\n",
       "      <td>Sneakers For Men</td>\n",
       "      <td>45% off</td>\n",
       "    </tr>\n",
       "    <tr>\n",
       "      <th>99</th>\n",
       "      <td>ASTEROID</td>\n",
       "      <td>₹199₹59966% off</td>\n",
       "      <td>STYLISH MENS BLACK AND WHITE SNEAKER Sneakers ...</td>\n",
       "      <td>74% off</td>\n",
       "    </tr>\n",
       "  </tbody>\n",
       "</table>\n",
       "<p>100 rows × 4 columns</p>\n",
       "</div>"
      ],
      "text/plain": [
       "      Brand_name            P_price  \\\n",
       "0        Numenzo  ₹474₹1,99976% off   \n",
       "1        LuvShus    ₹599₹99940% off   \n",
       "2         Layasa    ₹399₹99960% off   \n",
       "3         BRUTON  ₹279₹1,29978% off   \n",
       "4       URBANBOX    ₹198₹99980% off   \n",
       "..           ...                ...   \n",
       "95       Numenzo    ₹299₹99970% off   \n",
       "96  Robbie jones    ₹374₹99962% off   \n",
       "97        Kraasa  ₹549₹1,29957% off   \n",
       "98          PUMA  ₹283₹1,29978% off   \n",
       "99      ASTEROID    ₹199₹59966% off   \n",
       "\n",
       "                                              Pr_desc P_discount  \n",
       "0                         411 Casual Sneakers For Men    76% off  \n",
       "1                                    Sneakers For Men    40% off  \n",
       "2                                    Sneakers For Men    60% off  \n",
       "3                Modern Trendy Shoes Sneakers For Men    78% off  \n",
       "4   Stylish Comfortable Lightweight, Breathable Wa...    80% off  \n",
       "..                                                ...        ...  \n",
       "95                     STREET ICON M Sneakers For Men    81% off  \n",
       "96                    casual for men Sneakers For Men    60% off  \n",
       "97                                   Sneakers For Men    58% off  \n",
       "98                                   Sneakers For Men    45% off  \n",
       "99  STYLISH MENS BLACK AND WHITE SNEAKER Sneakers ...    74% off  \n",
       "\n",
       "[100 rows x 4 columns]"
      ]
     },
     "execution_count": 92,
     "metadata": {},
     "output_type": "execute_result"
    }
   ],
   "source": [
    "sn"
   ]
  },
  {
   "cell_type": "code",
   "execution_count": 63,
   "id": "387eb752",
   "metadata": {},
   "outputs": [],
   "source": [
    "#question-7)Go to the link - https://www.myntra.com/shoes Set second Price filter and  Color filter to “Black”, as shown in the below image"
   ]
  },
  {
   "cell_type": "code",
   "execution_count": 85,
   "id": "48659d66",
   "metadata": {},
   "outputs": [],
   "source": [
    "from selenium import webdriver\n",
    "import pandas as pd\n",
    "import selenium\n",
    "import numpy as np\n",
    "import time\n",
    "from bs4 import BeautifulSoup\n",
    "import warnings\n",
    "warnings.filterwarnings('ignore')"
   ]
  },
  {
   "cell_type": "code",
   "execution_count": 86,
   "id": "d5122ed0",
   "metadata": {},
   "outputs": [],
   "source": [
    "driver=webdriver.Chrome(r'C:\\Users\\sandeep\\.jupyter\\webdrv\\chromedriver')"
   ]
  },
  {
   "cell_type": "code",
   "execution_count": 87,
   "id": "3223855b",
   "metadata": {},
   "outputs": [],
   "source": [
    "driver = webdriver.Chrome(r'C:\\Users\\sandeep\\.jupyter\\webdrv\\chromedriver')  # Optional argument, if not specified will search path.\n",
    "driver.get(' https://www.myntra.com/shoes  ');\n",
    "time.sleep(5)"
   ]
  },
  {
   "cell_type": "code",
   "execution_count": 88,
   "id": "b6628c5c",
   "metadata": {},
   "outputs": [],
   "source": [
    "search=driver.find_element_by_xpath('/html/body/div[1]/div/div/header/div[2]/div[3]/input')\n",
    "search.send_keys('sneakers')"
   ]
  },
  {
   "cell_type": "code",
   "execution_count": 94,
   "id": "3916db4c",
   "metadata": {},
   "outputs": [],
   "source": [
    "search_btn=driver.find_elements_by_xpath(\"//ul[@class ='price-list']//label[@class ='common-customCheckbox vertical-filters-label']/div[@class = 'common-checkboxIndicator']\")\n",
    "search_btn[1].click()"
   ]
  },
  {
   "cell_type": "code",
   "execution_count": 95,
   "id": "59e735a0",
   "metadata": {},
   "outputs": [],
   "source": [
    "brand=[]\n",
    "desp=[]\n",
    "price=[]\n",
    "while True:\n",
    "    brand_tag=driver.find_elements_by_xpath(\"//div[@class= 'product-productMetaInfo']//h3[@class='product-brand']\")\n",
    "    for i in brand_tag:\n",
    "        brand.append(i.text)\n",
    "    desp_tag=driver.find_elements_by_xpath(\"//div[@class= 'product-productMetaInfo']//h4[@class='product-product']\")\n",
    "    for i in desp_tag:\n",
    "        desp.append(i.text)\n",
    "    price_tag=driver.find_elements_by_xpath(\"//div[@class= 'product-productMetaInfo']//div[@class='product-price']\")\n",
    "    for i in price_tag:\n",
    "        price.append('Rs.'+i.text.split('Rs.')[1])\n",
    "    if len(price)<100:\n",
    "        driver.get(driver.find_element_by_xpath(\"//a[@rel = 'next']\").get_attribute('href'))\n",
    "    else:\n",
    "        break"
   ]
  },
  {
   "cell_type": "code",
   "execution_count": 97,
   "id": "7c018e50",
   "metadata": {},
   "outputs": [],
   "source": [
    "dataframe=pd.DataFrame()\n",
    "dataframe['Brand NAME']=brand[:100]\n",
    "dataframe['Product Description']=desp[:100]\n",
    "dataframe['Price']=price[:100]\n"
   ]
  },
  {
   "cell_type": "code",
   "execution_count": 98,
   "id": "6124bf32",
   "metadata": {},
   "outputs": [
    {
     "data": {
      "text/html": [
       "<div>\n",
       "<style scoped>\n",
       "    .dataframe tbody tr th:only-of-type {\n",
       "        vertical-align: middle;\n",
       "    }\n",
       "\n",
       "    .dataframe tbody tr th {\n",
       "        vertical-align: top;\n",
       "    }\n",
       "\n",
       "    .dataframe thead th {\n",
       "        text-align: right;\n",
       "    }\n",
       "</style>\n",
       "<table border=\"1\" class=\"dataframe\">\n",
       "  <thead>\n",
       "    <tr style=\"text-align: right;\">\n",
       "      <th></th>\n",
       "      <th>Brand NAME</th>\n",
       "      <th>Product Description</th>\n",
       "      <th>Price</th>\n",
       "    </tr>\n",
       "  </thead>\n",
       "  <tbody>\n",
       "    <tr>\n",
       "      <th>0</th>\n",
       "      <td>Skechers</td>\n",
       "      <td>Men Go Walk 5 Walking Shoes</td>\n",
       "      <td>Rs. 8499</td>\n",
       "    </tr>\n",
       "    <tr>\n",
       "      <th>1</th>\n",
       "      <td>UNDER ARMOUR</td>\n",
       "      <td>Men UA Charged Vantage 2 Run</td>\n",
       "      <td>Rs. 7999</td>\n",
       "    </tr>\n",
       "    <tr>\n",
       "      <th>2</th>\n",
       "      <td>Nike</td>\n",
       "      <td>Men Basketball Shoes</td>\n",
       "      <td>Rs. 10295</td>\n",
       "    </tr>\n",
       "    <tr>\n",
       "      <th>3</th>\n",
       "      <td>Nike</td>\n",
       "      <td>Men React IR FK3 Running Shoes</td>\n",
       "      <td>Rs. 13995</td>\n",
       "    </tr>\n",
       "    <tr>\n",
       "      <th>4</th>\n",
       "      <td>Nike</td>\n",
       "      <td>Men React IR FK3 Running Shoes</td>\n",
       "      <td>Rs. 13995</td>\n",
       "    </tr>\n",
       "    <tr>\n",
       "      <th>...</th>\n",
       "      <td>...</td>\n",
       "      <td>...</td>\n",
       "      <td>...</td>\n",
       "    </tr>\n",
       "    <tr>\n",
       "      <th>95</th>\n",
       "      <td>Nike</td>\n",
       "      <td>Women Blazer Low Sneakers</td>\n",
       "      <td>Rs. 8195</td>\n",
       "    </tr>\n",
       "    <tr>\n",
       "      <th>96</th>\n",
       "      <td>Skechers</td>\n",
       "      <td>Men Woven Design Sneakers</td>\n",
       "      <td>Rs. 7499</td>\n",
       "    </tr>\n",
       "    <tr>\n",
       "      <th>97</th>\n",
       "      <td>Geox</td>\n",
       "      <td>Men Textured Leather Driving Shoes</td>\n",
       "      <td>Rs. 9990</td>\n",
       "    </tr>\n",
       "    <tr>\n",
       "      <th>98</th>\n",
       "      <td>Geox</td>\n",
       "      <td>Men Textured Leather Driving Shoes</td>\n",
       "      <td>Rs. 10490</td>\n",
       "    </tr>\n",
       "    <tr>\n",
       "      <th>99</th>\n",
       "      <td>Geox</td>\n",
       "      <td>Men Textured Leather Driving Shoes</td>\n",
       "      <td>Rs. 9341</td>\n",
       "    </tr>\n",
       "  </tbody>\n",
       "</table>\n",
       "<p>100 rows × 3 columns</p>\n",
       "</div>"
      ],
      "text/plain": [
       "      Brand NAME                 Product Description      Price\n",
       "0       Skechers         Men Go Walk 5 Walking Shoes   Rs. 8499\n",
       "1   UNDER ARMOUR        Men UA Charged Vantage 2 Run   Rs. 7999\n",
       "2           Nike                Men Basketball Shoes  Rs. 10295\n",
       "3           Nike      Men React IR FK3 Running Shoes  Rs. 13995\n",
       "4           Nike      Men React IR FK3 Running Shoes  Rs. 13995\n",
       "..           ...                                 ...        ...\n",
       "95          Nike           Women Blazer Low Sneakers   Rs. 8195\n",
       "96      Skechers           Men Woven Design Sneakers   Rs. 7499\n",
       "97          Geox  Men Textured Leather Driving Shoes   Rs. 9990\n",
       "98          Geox  Men Textured Leather Driving Shoes  Rs. 10490\n",
       "99          Geox  Men Textured Leather Driving Shoes   Rs. 9341\n",
       "\n",
       "[100 rows x 3 columns]"
      ]
     },
     "execution_count": 98,
     "metadata": {},
     "output_type": "execute_result"
    }
   ],
   "source": [
    "dataframe"
   ]
  },
  {
   "cell_type": "code",
   "execution_count": 99,
   "id": "d9991f1b",
   "metadata": {},
   "outputs": [],
   "source": [
    "#  Q8: Go to webpage https://www.amazon.in/ Enter “Laptop” in the search field and then click the search icon. "
   ]
  },
  {
   "cell_type": "code",
   "execution_count": 3,
   "id": "892908e6",
   "metadata": {},
   "outputs": [],
   "source": [
    "from selenium import webdriver\n",
    "import pandas as pd\n",
    "import selenium\n",
    "import numpy as np\n",
    "import time\n",
    "from bs4 import BeautifulSoup\n",
    "import warnings\n",
    "warnings.filterwarnings('ignore')"
   ]
  },
  {
   "cell_type": "code",
   "execution_count": 6,
   "id": "f79f6828",
   "metadata": {},
   "outputs": [],
   "source": [
    "driver=webdriver.Chrome(r'C:\\Users\\sandeep\\.jupyter\\webdrv\\chromedriver')"
   ]
  },
  {
   "cell_type": "code",
   "execution_count": 7,
   "id": "edc1362f",
   "metadata": {},
   "outputs": [],
   "source": [
    "driver = webdriver.Chrome(r'C:\\Users\\sandeep\\.jupyter\\webdrv\\chromedriver')  # Optional argument, if not specified will search path.\n",
    "driver.get('  https://www.amazon.in/  ');\n",
    "time.sleep(5)"
   ]
  },
  {
   "cell_type": "code",
   "execution_count": 8,
   "id": "e1ae3c79",
   "metadata": {},
   "outputs": [],
   "source": [
    "search=driver.find_element_by_xpath('/html/body/div[1]/header/div/div[1]/div[2]/div/form/div[2]/div[1]/input')\n",
    "search.send_keys('laptop')"
   ]
  },
  {
   "cell_type": "code",
   "execution_count": 10,
   "id": "942765ea",
   "metadata": {},
   "outputs": [],
   "source": [
    "title_laptop=[]\n",
    "rating_laptop=[]\n",
    "price_laptop=[]"
   ]
  },
  {
   "cell_type": "code",
   "execution_count": 13,
   "id": "b3bd6d8c",
   "metadata": {},
   "outputs": [],
   "source": [
    "for i in range(3):\n",
    "    l_name=driver.find_elements_by_xpath(\"/html/body/div[1]/div[2]/div[1]/div[1]/div/span[3]/div[2]/div[3]/div/div/div/div/div/div[2]/div/div/div[1]/h2/a/span\")\n",
    "    rating=driver.find_elements_by_xpath(\"/html/body/div[1]/div[2]/div[1]/div[1]/div/span[3]/div[2]/div[3]/div/div/div/div/div/div[2]/div/div/div[2]/div/span[2]/a/span\")\n",
    "    price =driver.find_elements_by_xpath(\"/html/body/div[1]/div[2]/div[1]/div[1]/div/span[3]/div[2]/div[3]/div/div/div/div/div/div[2]/div/div/div[3]/div[1]/div/div[1]/div[1]/a/span[1]/span[2]/span[2]\")\n",
    "    \n",
    "    \n",
    "    for j  in l_name:\n",
    "        title_laptop.append(j.text)\n",
    "    title_laptop[:100]    \n",
    "    \n",
    "    \n",
    "    \n",
    "    for k in rating:\n",
    "        rating_laptop .append(k.text)\n",
    "    rating_laptop[:100] \n",
    "    \n",
    "    \n",
    "    for l in price:\n",
    "        price_laptop.append(l.text)\n",
    "    price_laptop[:100] \n",
    "    \n",
    "    \n",
    "    "
   ]
  },
  {
   "cell_type": "code",
   "execution_count": 14,
   "id": "548e8eb1",
   "metadata": {},
   "outputs": [
    {
     "name": "stdout",
     "output_type": "stream",
     "text": [
      "6\n",
      "6\n",
      "6\n"
     ]
    },
    {
     "data": {
      "text/plain": [
       "(None, None, None)"
      ]
     },
     "execution_count": 14,
     "metadata": {},
     "output_type": "execute_result"
    }
   ],
   "source": [
    "print(len(title_laptop[:100])),print(len(rating_laptop[:100])),print(len(rating_laptop[:100]))"
   ]
  },
  {
   "cell_type": "code",
   "execution_count": 17,
   "id": "2e3426c4",
   "metadata": {},
   "outputs": [],
   "source": [
    "laptop=pd.DataFrame({})\n",
    "laptop['l_name']=title_laptop[:100]\n",
    "laptop['price']=price_laptop[:100]\n",
    "laptop['rating']=rating_laptop[:100]"
   ]
  },
  {
   "cell_type": "code",
   "execution_count": 18,
   "id": "ad4f73ef",
   "metadata": {},
   "outputs": [
    {
     "data": {
      "text/html": [
       "<div>\n",
       "<style scoped>\n",
       "    .dataframe tbody tr th:only-of-type {\n",
       "        vertical-align: middle;\n",
       "    }\n",
       "\n",
       "    .dataframe tbody tr th {\n",
       "        vertical-align: top;\n",
       "    }\n",
       "\n",
       "    .dataframe thead th {\n",
       "        text-align: right;\n",
       "    }\n",
       "</style>\n",
       "<table border=\"1\" class=\"dataframe\">\n",
       "  <thead>\n",
       "    <tr style=\"text-align: right;\">\n",
       "      <th></th>\n",
       "      <th>l_name</th>\n",
       "      <th>price</th>\n",
       "      <th>rating</th>\n",
       "    </tr>\n",
       "  </thead>\n",
       "  <tbody>\n",
       "    <tr>\n",
       "      <th>0</th>\n",
       "      <td>HP Pavilion 14 12th Gen Intel Core i7 16GB SDR...</td>\n",
       "      <td>86,990</td>\n",
       "      <td>2</td>\n",
       "    </tr>\n",
       "    <tr>\n",
       "      <th>1</th>\n",
       "      <td>HP Pavilion 14 12th Gen Intel Core i7 16GB SDR...</td>\n",
       "      <td>86,990</td>\n",
       "      <td>2</td>\n",
       "    </tr>\n",
       "    <tr>\n",
       "      <th>2</th>\n",
       "      <td>HP Pavilion 14 12th Gen Intel Core i7 16GB SDR...</td>\n",
       "      <td>86,990</td>\n",
       "      <td>2</td>\n",
       "    </tr>\n",
       "    <tr>\n",
       "      <th>3</th>\n",
       "      <td>HP Pavilion 14 12th Gen Intel Core i7 16GB SDR...</td>\n",
       "      <td>86,990</td>\n",
       "      <td>2</td>\n",
       "    </tr>\n",
       "    <tr>\n",
       "      <th>4</th>\n",
       "      <td>HP Pavilion 14 12th Gen Intel Core i7 16GB SDR...</td>\n",
       "      <td>86,990</td>\n",
       "      <td>2</td>\n",
       "    </tr>\n",
       "    <tr>\n",
       "      <th>5</th>\n",
       "      <td>HP Pavilion 14 12th Gen Intel Core i7 16GB SDR...</td>\n",
       "      <td>86,990</td>\n",
       "      <td>2</td>\n",
       "    </tr>\n",
       "  </tbody>\n",
       "</table>\n",
       "</div>"
      ],
      "text/plain": [
       "                                              l_name   price rating\n",
       "0  HP Pavilion 14 12th Gen Intel Core i7 16GB SDR...  86,990      2\n",
       "1  HP Pavilion 14 12th Gen Intel Core i7 16GB SDR...  86,990      2\n",
       "2  HP Pavilion 14 12th Gen Intel Core i7 16GB SDR...  86,990      2\n",
       "3  HP Pavilion 14 12th Gen Intel Core i7 16GB SDR...  86,990      2\n",
       "4  HP Pavilion 14 12th Gen Intel Core i7 16GB SDR...  86,990      2\n",
       "5  HP Pavilion 14 12th Gen Intel Core i7 16GB SDR...  86,990      2"
      ]
     },
     "execution_count": 18,
     "metadata": {},
     "output_type": "execute_result"
    }
   ],
   "source": [
    "laptop"
   ]
  },
  {
   "cell_type": "code",
   "execution_count": 1,
   "id": "f5361f52",
   "metadata": {},
   "outputs": [],
   "source": [
    "#Q9: Write a python program to scrape data for first 10 job results for Data Scientist Designation in Noida location. \n",
    "#You have to scrape company name, No. of days ago when job was posted, Rating of the company. "
   ]
  },
  {
   "cell_type": "code",
   "execution_count": 1,
   "id": "283d4152",
   "metadata": {},
   "outputs": [],
   "source": [
    "from selenium import webdriver\n",
    "import pandas as pd\n",
    "import selenium\n",
    "import numpy as np\n",
    "import time\n",
    "import warnings\n",
    "warnings.filterwarnings('ignore')"
   ]
  },
  {
   "cell_type": "code",
   "execution_count": 2,
   "id": "f31577f2",
   "metadata": {},
   "outputs": [],
   "source": [
    "driver=webdriver.Chrome(r'C:\\Users\\sandeep\\.jupyter\\webdrv\\chromedriver')"
   ]
  },
  {
   "cell_type": "code",
   "execution_count": 3,
   "id": "babfcac4",
   "metadata": {},
   "outputs": [],
   "source": [
    "driver = webdriver.Chrome(r'C:\\Users\\sandeep\\.jupyter\\webdrv\\chromedriver')  # Optional argument, if not specified will search path.\n",
    "driver.get(' https://www.ambitionbox.com/   ');\n",
    "time.sleep(5)"
   ]
  },
  {
   "cell_type": "code",
   "execution_count": 4,
   "id": "0d16d847",
   "metadata": {},
   "outputs": [],
   "source": [
    "search=driver.find_element_by_xpath('/html/body/div/div/div/div[2]/div[1]/div[1]/div/div/div/div/span/input')\n",
    "search.send_keys('Data Scientist')"
   ]
  },
  {
   "cell_type": "code",
   "execution_count": 5,
   "id": "ff78cc9d",
   "metadata": {},
   "outputs": [],
   "source": [
    "search_btn=driver.find_element_by_xpath('/html/body/div/div/div/div[2]/div[1]/div[2]/div[1]/div/div/div/div[2]/div[2]/div/div[2]/input')\n",
    "search_btn.send_keys('noida')"
   ]
  },
  {
   "cell_type": "code",
   "execution_count": 6,
   "id": "908cdee0",
   "metadata": {},
   "outputs": [],
   "source": [
    "job=[]\n",
    "company_name=[]\n",
    "location_name=[]\n",
    "job_time=[]"
   ]
  },
  {
   "cell_type": "code",
   "execution_count": 8,
   "id": "6e4d0b82",
   "metadata": {},
   "outputs": [],
   "source": [
    "\n",
    "\n",
    "for i in range(3):\n",
    "    title_name=driver.find_elements_by_xpath(\"/html/body/div/div/div/div[2]/div[1]/div[2]/div[2]/div[2]/div/div[1]/div[1]\")\n",
    "    company=driver.find_elements_by_xpath(\"/html/body/div/div/div/div[2]/div[1]/div[2]/div[2]/div[2]/div/div[1]/div[2]/div[2]/div/p\")\n",
    "    rating =driver.find_elements_by_xpath(\"/html/body/div/div/div/div[2]/div[1]/div[2]/div[2]/div[2]/div/div[1]/div[1]/div[2]/div/div/a[1]/span\")\n",
    "    days =driver.find_elements_by_xpath(\"/html/body/div/div/div/div[2]/div[1]/div[2]/div[2]/div[2]/div/div[1]/div[1]/div[3]/span[1]\")\n",
    "    \n",
    "    for j  in title_name:\n",
    "        job.append(j.text)\n",
    "    job[:10]    \n",
    "    \n",
    "    \n",
    "    \n",
    "    for k in company:\n",
    "        company_name .append(k.text)\n",
    "    company_name[:10] \n",
    "    \n",
    "    \n",
    "    for l in rating:\n",
    "        location_name.append(l.text)\n",
    "    location_name[:10] \n",
    "    \n",
    "    \n",
    "    for m in days:\n",
    "        job_time.append(m.text)\n",
    "    job_time[:10] \n",
    "    \n",
    "\n",
    "\n",
    "\n",
    "\n",
    "\n",
    "\n"
   ]
  },
  {
   "cell_type": "code",
   "execution_count": 10,
   "id": "ad03d7a4",
   "metadata": {},
   "outputs": [
    {
     "ename": "ValueError",
     "evalue": "Length of values (3) does not match length of index (1)",
     "output_type": "error",
     "traceback": [
      "\u001b[1;31m---------------------------------------------------------------------------\u001b[0m",
      "\u001b[1;31mValueError\u001b[0m                                Traceback (most recent call last)",
      "Input \u001b[1;32mIn [10]\u001b[0m, in \u001b[0;36m<cell line: 3>\u001b[1;34m()\u001b[0m\n\u001b[0;32m      1\u001b[0m sl\u001b[38;5;241m=\u001b[39mpd\u001b[38;5;241m.\u001b[39mDataFrame({})\n\u001b[0;32m      2\u001b[0m sl[\u001b[38;5;124m'\u001b[39m\u001b[38;5;124mname\u001b[39m\u001b[38;5;124m'\u001b[39m]\u001b[38;5;241m=\u001b[39mtitle_name[\u001b[38;5;241m0\u001b[39m:\u001b[38;5;241m10\u001b[39m]\n\u001b[1;32m----> 3\u001b[0m sl[\u001b[38;5;124m'\u001b[39m\u001b[38;5;124mcompany\u001b[39m\u001b[38;5;124m'\u001b[39m]\u001b[38;5;241m=\u001b[39mcompany_name[\u001b[38;5;241m0\u001b[39m:\u001b[38;5;241m10\u001b[39m]\n\u001b[0;32m      4\u001b[0m sl[\u001b[38;5;124m'\u001b[39m\u001b[38;5;124mrating\u001b[39m\u001b[38;5;124m'\u001b[39m]\u001b[38;5;241m=\u001b[39mlocation_name[\u001b[38;5;241m0\u001b[39m:\u001b[38;5;241m10\u001b[39m]\n\u001b[0;32m      5\u001b[0m sl[\u001b[38;5;124m'\u001b[39m\u001b[38;5;124mdays\u001b[39m\u001b[38;5;124m'\u001b[39m]\u001b[38;5;241m=\u001b[39mjob_time[\u001b[38;5;241m0\u001b[39m:\u001b[38;5;241m10\u001b[39m]\n",
      "File \u001b[1;32m~\\Anaconda3\\lib\\site-packages\\pandas\\core\\frame.py:3655\u001b[0m, in \u001b[0;36mDataFrame.__setitem__\u001b[1;34m(self, key, value)\u001b[0m\n\u001b[0;32m   3652\u001b[0m     \u001b[38;5;28mself\u001b[39m\u001b[38;5;241m.\u001b[39m_setitem_array([key], value)\n\u001b[0;32m   3653\u001b[0m \u001b[38;5;28;01melse\u001b[39;00m:\n\u001b[0;32m   3654\u001b[0m     \u001b[38;5;66;03m# set column\u001b[39;00m\n\u001b[1;32m-> 3655\u001b[0m     \u001b[38;5;28;43mself\u001b[39;49m\u001b[38;5;241;43m.\u001b[39;49m\u001b[43m_set_item\u001b[49m\u001b[43m(\u001b[49m\u001b[43mkey\u001b[49m\u001b[43m,\u001b[49m\u001b[43m \u001b[49m\u001b[43mvalue\u001b[49m\u001b[43m)\u001b[49m\n",
      "File \u001b[1;32m~\\Anaconda3\\lib\\site-packages\\pandas\\core\\frame.py:3832\u001b[0m, in \u001b[0;36mDataFrame._set_item\u001b[1;34m(self, key, value)\u001b[0m\n\u001b[0;32m   3822\u001b[0m \u001b[38;5;28;01mdef\u001b[39;00m \u001b[38;5;21m_set_item\u001b[39m(\u001b[38;5;28mself\u001b[39m, key, value) \u001b[38;5;241m-\u001b[39m\u001b[38;5;241m>\u001b[39m \u001b[38;5;28;01mNone\u001b[39;00m:\n\u001b[0;32m   3823\u001b[0m     \u001b[38;5;124;03m\"\"\"\u001b[39;00m\n\u001b[0;32m   3824\u001b[0m \u001b[38;5;124;03m    Add series to DataFrame in specified column.\u001b[39;00m\n\u001b[0;32m   3825\u001b[0m \n\u001b[1;32m   (...)\u001b[0m\n\u001b[0;32m   3830\u001b[0m \u001b[38;5;124;03m    ensure homogeneity.\u001b[39;00m\n\u001b[0;32m   3831\u001b[0m \u001b[38;5;124;03m    \"\"\"\u001b[39;00m\n\u001b[1;32m-> 3832\u001b[0m     value \u001b[38;5;241m=\u001b[39m \u001b[38;5;28;43mself\u001b[39;49m\u001b[38;5;241;43m.\u001b[39;49m\u001b[43m_sanitize_column\u001b[49m\u001b[43m(\u001b[49m\u001b[43mvalue\u001b[49m\u001b[43m)\u001b[49m\n\u001b[0;32m   3834\u001b[0m     \u001b[38;5;28;01mif\u001b[39;00m (\n\u001b[0;32m   3835\u001b[0m         key \u001b[38;5;129;01min\u001b[39;00m \u001b[38;5;28mself\u001b[39m\u001b[38;5;241m.\u001b[39mcolumns\n\u001b[0;32m   3836\u001b[0m         \u001b[38;5;129;01mand\u001b[39;00m value\u001b[38;5;241m.\u001b[39mndim \u001b[38;5;241m==\u001b[39m \u001b[38;5;241m1\u001b[39m\n\u001b[0;32m   3837\u001b[0m         \u001b[38;5;129;01mand\u001b[39;00m \u001b[38;5;129;01mnot\u001b[39;00m is_extension_array_dtype(value)\n\u001b[0;32m   3838\u001b[0m     ):\n\u001b[0;32m   3839\u001b[0m         \u001b[38;5;66;03m# broadcast across multiple columns if necessary\u001b[39;00m\n\u001b[0;32m   3840\u001b[0m         \u001b[38;5;28;01mif\u001b[39;00m \u001b[38;5;129;01mnot\u001b[39;00m \u001b[38;5;28mself\u001b[39m\u001b[38;5;241m.\u001b[39mcolumns\u001b[38;5;241m.\u001b[39mis_unique \u001b[38;5;129;01mor\u001b[39;00m \u001b[38;5;28misinstance\u001b[39m(\u001b[38;5;28mself\u001b[39m\u001b[38;5;241m.\u001b[39mcolumns, MultiIndex):\n",
      "File \u001b[1;32m~\\Anaconda3\\lib\\site-packages\\pandas\\core\\frame.py:4535\u001b[0m, in \u001b[0;36mDataFrame._sanitize_column\u001b[1;34m(self, value)\u001b[0m\n\u001b[0;32m   4532\u001b[0m     \u001b[38;5;28;01mreturn\u001b[39;00m _reindex_for_setitem(value, \u001b[38;5;28mself\u001b[39m\u001b[38;5;241m.\u001b[39mindex)\n\u001b[0;32m   4534\u001b[0m \u001b[38;5;28;01mif\u001b[39;00m is_list_like(value):\n\u001b[1;32m-> 4535\u001b[0m     \u001b[43mcom\u001b[49m\u001b[38;5;241;43m.\u001b[39;49m\u001b[43mrequire_length_match\u001b[49m\u001b[43m(\u001b[49m\u001b[43mvalue\u001b[49m\u001b[43m,\u001b[49m\u001b[43m \u001b[49m\u001b[38;5;28;43mself\u001b[39;49m\u001b[38;5;241;43m.\u001b[39;49m\u001b[43mindex\u001b[49m\u001b[43m)\u001b[49m\n\u001b[0;32m   4536\u001b[0m \u001b[38;5;28;01mreturn\u001b[39;00m sanitize_array(value, \u001b[38;5;28mself\u001b[39m\u001b[38;5;241m.\u001b[39mindex, copy\u001b[38;5;241m=\u001b[39m\u001b[38;5;28;01mTrue\u001b[39;00m, allow_2d\u001b[38;5;241m=\u001b[39m\u001b[38;5;28;01mTrue\u001b[39;00m)\n",
      "File \u001b[1;32m~\\Anaconda3\\lib\\site-packages\\pandas\\core\\common.py:557\u001b[0m, in \u001b[0;36mrequire_length_match\u001b[1;34m(data, index)\u001b[0m\n\u001b[0;32m    553\u001b[0m \u001b[38;5;124;03m\"\"\"\u001b[39;00m\n\u001b[0;32m    554\u001b[0m \u001b[38;5;124;03mCheck the length of data matches the length of the index.\u001b[39;00m\n\u001b[0;32m    555\u001b[0m \u001b[38;5;124;03m\"\"\"\u001b[39;00m\n\u001b[0;32m    556\u001b[0m \u001b[38;5;28;01mif\u001b[39;00m \u001b[38;5;28mlen\u001b[39m(data) \u001b[38;5;241m!=\u001b[39m \u001b[38;5;28mlen\u001b[39m(index):\n\u001b[1;32m--> 557\u001b[0m     \u001b[38;5;28;01mraise\u001b[39;00m \u001b[38;5;167;01mValueError\u001b[39;00m(\n\u001b[0;32m    558\u001b[0m         \u001b[38;5;124m\"\u001b[39m\u001b[38;5;124mLength of values \u001b[39m\u001b[38;5;124m\"\u001b[39m\n\u001b[0;32m    559\u001b[0m         \u001b[38;5;124mf\u001b[39m\u001b[38;5;124m\"\u001b[39m\u001b[38;5;124m(\u001b[39m\u001b[38;5;132;01m{\u001b[39;00m\u001b[38;5;28mlen\u001b[39m(data)\u001b[38;5;132;01m}\u001b[39;00m\u001b[38;5;124m) \u001b[39m\u001b[38;5;124m\"\u001b[39m\n\u001b[0;32m    560\u001b[0m         \u001b[38;5;124m\"\u001b[39m\u001b[38;5;124mdoes not match length of index \u001b[39m\u001b[38;5;124m\"\u001b[39m\n\u001b[0;32m    561\u001b[0m         \u001b[38;5;124mf\u001b[39m\u001b[38;5;124m\"\u001b[39m\u001b[38;5;124m(\u001b[39m\u001b[38;5;132;01m{\u001b[39;00m\u001b[38;5;28mlen\u001b[39m(index)\u001b[38;5;132;01m}\u001b[39;00m\u001b[38;5;124m)\u001b[39m\u001b[38;5;124m\"\u001b[39m\n\u001b[0;32m    562\u001b[0m     )\n",
      "\u001b[1;31mValueError\u001b[0m: Length of values (3) does not match length of index (1)"
     ]
    }
   ],
   "source": [
    "sl=pd.DataFrame({})\n",
    "sl['name']=title_name[0:10]\n",
    "sl['company']=company_name[0:10]\n",
    "sl['rating']=location_name[0:10]\n",
    "sl['days']=job_time[0:10]"
   ]
  },
  {
   "cell_type": "code",
   "execution_count": null,
   "id": "c3bd5725",
   "metadata": {},
   "outputs": [],
   "source": [
    "#10-Q10: Write a python program to scrape the salary data for Data Scientist designation. You have to scrape Company name, Number of salaries, Average salary, Minsalary, Max Salary. "
   ]
  },
  {
   "cell_type": "code",
   "execution_count": 7,
   "id": "4633ebd9",
   "metadata": {},
   "outputs": [],
   "source": [
    "from selenium import webdriver\n",
    "import pandas as pd\n",
    "import selenium\n",
    "import numpy as np\n",
    "import time\n",
    "import warnings\n",
    "warnings.filterwarnings('ignore')"
   ]
  },
  {
   "cell_type": "code",
   "execution_count": 47,
   "id": "b7a8ee12",
   "metadata": {},
   "outputs": [],
   "source": [
    "driver=webdriver.Chrome(r'C:\\Users\\sandeep\\.jupyter\\webdrv\\chromedriver')"
   ]
  },
  {
   "cell_type": "code",
   "execution_count": 48,
   "id": "4a42c619",
   "metadata": {},
   "outputs": [],
   "source": [
    "driver = webdriver.Chrome(r'C:\\Users\\sandeep\\.jupyter\\webdrv\\chromedriver')  # Optional argument, if not specified will search path.\n",
    "driver.get(' https://www.ambitionbox.com/   ');\n",
    "time.sleep(5)"
   ]
  },
  {
   "cell_type": "code",
   "execution_count": 53,
   "id": "a12b008b",
   "metadata": {},
   "outputs": [],
   "source": [
    ")"
   ]
  },
  {
   "cell_type": "code",
   "execution_count": 80,
   "id": "7fbf1522",
   "metadata": {},
   "outputs": [],
   "source": [
    "company=[]\n",
    "total_salary=[]\n",
    "min_salary=[]\n",
    "max_salary=[]\n",
    "avg_salary=[]\n",
    "experience=[]\n"
   ]
  },
  {
   "cell_type": "code",
   "execution_count": 81,
   "id": "ff2f4ba0",
   "metadata": {},
   "outputs": [],
   "source": [
    "for i in range(3):\n",
    "    com=driver.find_elements_by_xpath(\"/html/body/div/div/div/main/section[1]/div[2]/div[3]/div[2]/div[1]/div[1]/div/div/div[1]/a\")\n",
    "    tot=driver.find_elements_by_xpath(\"/html/body/div/div/div/main/section[1]/div[2]/div[3]/div[2]/div[1]/div[1]/div/div/div[1]/span\")\n",
    "    mins =driver.find_elements_by_xpath(\"/html/body/div/div/div/main/section[1]/div[2]/div[3]/div[2]/div[1]/div[2]/div/div[2]/div[1]\")\n",
    "    maxs =driver.find_elements_by_xpath(\"/html/body/div/div/div/main/section[1]/div[2]/div[3]/div[2]/div[1]/div[2]/div/div[2]/div[2]\")\n",
    "    av =driver.find_elements_by_xpath(\"/html/body/div/div/div/main/section[1]/div[2]/div[3]/div[2]/div[1]/div[2]/div/div[1]/div/p\")\n",
    "    exp =driver.find_elements_by_xpath(\"/html/body/div/div/div/main/section[1]/div[2]/div[3]/div[2]/div[1]/div[1]/div/div/div[2]\")\n",
    "    \n",
    "    \n",
    "    for j  in com:\n",
    "        company.append(j.text)\n",
    "    company[:10]    \n",
    "    \n",
    "    \n",
    "    \n",
    "    for k in tot:\n",
    "        total_salary .append(k.text)\n",
    "    total_salary[:10] \n",
    "    \n",
    "    \n",
    "    for l in mins:\n",
    "        min_salary.append(l.text)\n",
    "    min_salary[:10] \n",
    "    \n",
    "    \n",
    "    for m in maxs:\n",
    "        max_salary.append(m.text)\n",
    "    max_salary[:10] \n",
    "    \n",
    "    for m in av:\n",
    "        avg_salary.append(m.text)\n",
    "    avg_salary[:10] \n",
    "    \n",
    "    for m in exp:\n",
    "        experience.append(m.text)\n",
    "    experience[:10] \n",
    "    \n",
    "    "
   ]
  },
  {
   "cell_type": "code",
   "execution_count": 82,
   "id": "03ac2885",
   "metadata": {},
   "outputs": [],
   "source": [
    "#print(len(company),len(total_salary),len(min_salary))"
   ]
  },
  {
   "cell_type": "code",
   "execution_count": 83,
   "id": "99a8a181",
   "metadata": {},
   "outputs": [],
   "source": [
    "sl=pd.DataFrame({})\n",
    "sl['company_name']=company[0:10]\n",
    "sl['mins']=min_salary[0:10]\n",
    "sl['maxs']=max_salary[0:10]\n",
    "sl['av']=avg_salary[0:10]\n",
    "sl['tot']=total_salary[0:10]\n",
    "sl['exp']=experience[0:10]"
   ]
  },
  {
   "cell_type": "code",
   "execution_count": 84,
   "id": "01a6e139",
   "metadata": {},
   "outputs": [
    {
     "data": {
      "text/html": [
       "<div>\n",
       "<style scoped>\n",
       "    .dataframe tbody tr th:only-of-type {\n",
       "        vertical-align: middle;\n",
       "    }\n",
       "\n",
       "    .dataframe tbody tr th {\n",
       "        vertical-align: top;\n",
       "    }\n",
       "\n",
       "    .dataframe thead th {\n",
       "        text-align: right;\n",
       "    }\n",
       "</style>\n",
       "<table border=\"1\" class=\"dataframe\">\n",
       "  <thead>\n",
       "    <tr style=\"text-align: right;\">\n",
       "      <th></th>\n",
       "      <th>company_name</th>\n",
       "      <th>mins</th>\n",
       "      <th>maxs</th>\n",
       "      <th>av</th>\n",
       "      <th>tot</th>\n",
       "      <th>exp</th>\n",
       "    </tr>\n",
       "  </thead>\n",
       "  <tbody>\n",
       "    <tr>\n",
       "      <th>0</th>\n",
       "      <td>Walmart</td>\n",
       "      <td>₹ 25.0L</td>\n",
       "      <td>₹ 36.0L</td>\n",
       "      <td>₹ 30.2L</td>\n",
       "      <td>based on 12 salaries</td>\n",
       "      <td>Data Scientist\\n . \\n3 yrs exp</td>\n",
       "    </tr>\n",
       "    <tr>\n",
       "      <th>1</th>\n",
       "      <td>Walmart</td>\n",
       "      <td>₹ 25.0L</td>\n",
       "      <td>₹ 36.0L</td>\n",
       "      <td>₹ 30.2L</td>\n",
       "      <td>based on 12 salaries</td>\n",
       "      <td>Data Scientist\\n . \\n3 yrs exp</td>\n",
       "    </tr>\n",
       "    <tr>\n",
       "      <th>2</th>\n",
       "      <td>Walmart</td>\n",
       "      <td>₹ 25.0L</td>\n",
       "      <td>₹ 36.0L</td>\n",
       "      <td>₹ 30.2L</td>\n",
       "      <td>based on 12 salaries</td>\n",
       "      <td>Data Scientist\\n . \\n3 yrs exp</td>\n",
       "    </tr>\n",
       "  </tbody>\n",
       "</table>\n",
       "</div>"
      ],
      "text/plain": [
       "  company_name     mins     maxs       av                   tot  \\\n",
       "0      Walmart  ₹ 25.0L  ₹ 36.0L  ₹ 30.2L  based on 12 salaries   \n",
       "1      Walmart  ₹ 25.0L  ₹ 36.0L  ₹ 30.2L  based on 12 salaries   \n",
       "2      Walmart  ₹ 25.0L  ₹ 36.0L  ₹ 30.2L  based on 12 salaries   \n",
       "\n",
       "                              exp  \n",
       "0  Data Scientist\\n . \\n3 yrs exp  \n",
       "1  Data Scientist\\n . \\n3 yrs exp  \n",
       "2  Data Scientist\\n . \\n3 yrs exp  "
      ]
     },
     "execution_count": 84,
     "metadata": {},
     "output_type": "execute_result"
    }
   ],
   "source": [
    "sl.head(10)"
   ]
  },
  {
   "cell_type": "code",
   "execution_count": null,
   "id": "c100b820",
   "metadata": {},
   "outputs": [],
   "source": []
  }
 ],
 "metadata": {
  "kernelspec": {
   "display_name": "Python 3 (ipykernel)",
   "language": "python",
   "name": "python3"
  },
  "language_info": {
   "codemirror_mode": {
    "name": "ipython",
    "version": 3
   },
   "file_extension": ".py",
   "mimetype": "text/x-python",
   "name": "python",
   "nbconvert_exporter": "python",
   "pygments_lexer": "ipython3",
   "version": "3.9.12"
  }
 },
 "nbformat": 4,
 "nbformat_minor": 5
}
